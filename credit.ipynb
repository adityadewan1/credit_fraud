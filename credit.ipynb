{
 "cells": [
  {
   "cell_type": "markdown",
   "id": "db5d3d47-ad36-4f81-9b12-00d4c10dca49",
   "metadata": {},
   "source": [
    "## Credit card fraud detection"
   ]
  },
  {
   "cell_type": "markdown",
   "id": "fbbe02b4-fda8-4483-952d-9d5c0d6b0527",
   "metadata": {},
   "source": [
    "Project 2\n",
    "## FindDefault (Prediction of Credit Card fraud)\n",
    "### Problem Statement:\n",
    "A credit card is one of the most used financial products to make online purchases and payments. Though the Credit cards can be a convenient way to manage your finances, they can also be risky. Credit card fraud is the unauthorized use of someone else's credit card or credit card information to make purchases or withdraw cash.\n",
    "It is important that credit card companies are able to recognize fraudulent credit card transactions so that customers are not charged for items that they did not purchase. \n",
    "The dataset contains transactions made by credit cards in September 2013 by European cardholders. This dataset presents transactions that occurred in two days, where we have **492 frauds out of 284,807 transactions**. The dataset is highly unbalanced, the positive class (frauds) **account for 0.172% of all transactions.**\n",
    "We have to build a classification model to predict whether a transaction is fraudulent or not.\n"
   ]
  },
  {
   "cell_type": "markdown",
   "id": "b0a809f6-d45c-42fa-9c3c-41f7de202659",
   "metadata": {},
   "source": [
    "### Your focus in this project should be on the following: \n",
    "The following is recommendation of the steps that should be employed towards attempting to solve this problem statement: \n",
    "- **Exploratory Data Analysis:** Analyze and understand the data to identify patterns, relationships, and trends in the data by using Descriptive Statistics and Visualizations. \n",
    "- **Data Cleaning:** This might include standardization, handling the missing values and outliers in the data. \n",
    "- **Dealing with Imbalanced data:** This data set is highly imbalanced. The data should be balanced using the appropriate methods before moving onto model building.\n",
    "- **Feature Engineering:** Create new features or transform the existing features for better performance of the ML Models. \n",
    "- **Model Selection:** Choose the most appropriate model that can be used for this project. \n",
    "- **Model Training:** Split the data into train & test sets and use the train set to estimate the best model parameters. \n",
    "- **Model Validation:** Evaluate the performance of the model on data that was not used during the training process. The goal is to estimate the model's ability to generalize to new, unseen data and to identify any issues with the model, such as overfitting. \n",
    "- **Model Deployment:** Model deployment is the process of making a trained machine learning model available for use in a production environment. \n",
    "\n"
   ]
  },
  {
   "cell_type": "markdown",
   "id": "bba74851-14d8-42b8-b72b-d2d5a2304ab5",
   "metadata": {},
   "source": [
    "### Timeline \n",
    "We expect you to do your best and submit a solution within 2 weeks. \n",
    "Deliverables \n",
    "Please share the following deliverables in a zip file. \n",
    "- A report (PDF) detailing: \n",
    "-\tDescription of design choices and Performance evaluation of the model \n",
    "-\tDiscussion of future work \n",
    "-\tThe source code used to create the pipeline \n",
    " \n"
   ]
  },
  {
   "cell_type": "markdown",
   "id": "f2f0dbe4-5a10-4fd5-add2-817be8e230b5",
   "metadata": {},
   "source": [
    "### Tasks/Activities List \n",
    "Your code should contain the following activities/Analysis: \n",
    "- Collect the time series data from the CSV file linked here. \n",
    "- Exploratory Data Analysis (EDA) - Show the Data quality check, treat the missing values, outliers etc if any. \n",
    "- Get the correct datatype for date. \n",
    "- Balancing the data.\n",
    "- Feature Engineering and feature selection. \n",
    "- Train/Test Split - Apply a sampling distribution to find the best split. \n",
    "- Choose the metrics for the model evaluation \n",
    "- Model Selection, Training, Predicting and Assessment \n",
    "- Hyperparameter Tuning/Model Improvement \n",
    "- Model deployment plan. "
   ]
  },
  {
   "cell_type": "markdown",
   "id": "633cb0aa-53b4-42d0-ae5a-c3254a0fc902",
   "metadata": {},
   "source": [
    "### Success Metrics \n",
    "Below are the metrics for the successful submission of this case study. \n",
    "- The accuracy of the model on the test data set should be > 75% (Subjective in nature) \n",
    "- Add methods for Hyperparameter tuning. \n",
    "- Perform model validation. \n",
    " \n",
    "\n",
    "### Bonus Points \n",
    "- You can package your solution in a zip file included with a README that explains the installation and execution of the end-to-end pipeline. \n",
    "- You can demonstrate your documentation skills by describing how it benefits our company. \n",
    "\n",
    "Data:\n",
    "The dataset for this project can be accessed by clicking the link provided below.\n",
    "creditcard.csv\n"
   ]
  },
  {
   "cell_type": "markdown",
   "id": "eb3535f7-9b2f-459a-98ff-a7f63abe61fe",
   "metadata": {},
   "source": [
    "**The aim of this project is to correctly identify fraudulent transactions based on the available features. This is a classification problem wherein we need to decide whether or not a transaction is fraudulent or legitimate based on the transaction features provided to us.**"
   ]
  },
  {
   "cell_type": "markdown",
   "id": "6336d176-7fcb-4e04-a221-d71189fcdb47",
   "metadata": {},
   "source": [
    "## Importing the necessary libraries"
   ]
  },
  {
   "cell_type": "code",
   "execution_count": 1,
   "id": "19ace350-897b-43e3-9a81-eec184f06ea1",
   "metadata": {},
   "outputs": [],
   "source": [
    "import pandas as pd\n",
    "import datetime\n",
    "import matplotlib.pyplot as plt\n",
    "import seaborn as sns\n",
    "import numpy as np"
   ]
  },
  {
   "cell_type": "code",
   "execution_count": 2,
   "id": "485fa81d-877d-4d24-b053-1f532e9e2182",
   "metadata": {},
   "outputs": [],
   "source": [
    "#hiding warnings\n",
    "import warnings\n",
    "warnings.filterwarnings('ignore')"
   ]
  },
  {
   "cell_type": "markdown",
   "id": "c88fdc0e-e52d-4462-bb4f-d0641b34d849",
   "metadata": {},
   "source": [
    "## Importing data"
   ]
  },
  {
   "cell_type": "markdown",
   "id": "94d26329-9b7a-4efe-95f3-3ab2641d87da",
   "metadata": {},
   "source": [
    "**First we import the data from the creditcard.csv file as a Pandas Dataframe, called \"df\".**"
   ]
  },
  {
   "cell_type": "code",
   "execution_count": 3,
   "id": "3763732f-8e06-43bf-8358-4977de08879c",
   "metadata": {},
   "outputs": [],
   "source": [
    "df = pd.read_csv(\"creditcard.csv\")"
   ]
  },
  {
   "cell_type": "markdown",
   "id": "9a3da34f-8a6b-4d21-975b-c34f1483f67b",
   "metadata": {},
   "source": [
    "**Checking the first 5 records of the dataframe using the head function.**"
   ]
  },
  {
   "cell_type": "code",
   "execution_count": 4,
   "id": "91c649a4-c3fe-4e1e-8913-3ea26ec1e5fe",
   "metadata": {},
   "outputs": [
    {
     "data": {
      "text/html": [
       "<div>\n",
       "<style scoped>\n",
       "    .dataframe tbody tr th:only-of-type {\n",
       "        vertical-align: middle;\n",
       "    }\n",
       "\n",
       "    .dataframe tbody tr th {\n",
       "        vertical-align: top;\n",
       "    }\n",
       "\n",
       "    .dataframe thead th {\n",
       "        text-align: right;\n",
       "    }\n",
       "</style>\n",
       "<table border=\"1\" class=\"dataframe\">\n",
       "  <thead>\n",
       "    <tr style=\"text-align: right;\">\n",
       "      <th></th>\n",
       "      <th>Time</th>\n",
       "      <th>V1</th>\n",
       "      <th>V2</th>\n",
       "      <th>V3</th>\n",
       "      <th>V4</th>\n",
       "      <th>V5</th>\n",
       "      <th>V6</th>\n",
       "      <th>V7</th>\n",
       "      <th>V8</th>\n",
       "      <th>V9</th>\n",
       "      <th>...</th>\n",
       "      <th>V21</th>\n",
       "      <th>V22</th>\n",
       "      <th>V23</th>\n",
       "      <th>V24</th>\n",
       "      <th>V25</th>\n",
       "      <th>V26</th>\n",
       "      <th>V27</th>\n",
       "      <th>V28</th>\n",
       "      <th>Amount</th>\n",
       "      <th>Class</th>\n",
       "    </tr>\n",
       "  </thead>\n",
       "  <tbody>\n",
       "    <tr>\n",
       "      <th>0</th>\n",
       "      <td>0.0</td>\n",
       "      <td>-1.359807</td>\n",
       "      <td>-0.072781</td>\n",
       "      <td>2.536347</td>\n",
       "      <td>1.378155</td>\n",
       "      <td>-0.338321</td>\n",
       "      <td>0.462388</td>\n",
       "      <td>0.239599</td>\n",
       "      <td>0.098698</td>\n",
       "      <td>0.363787</td>\n",
       "      <td>...</td>\n",
       "      <td>-0.018307</td>\n",
       "      <td>0.277838</td>\n",
       "      <td>-0.110474</td>\n",
       "      <td>0.066928</td>\n",
       "      <td>0.128539</td>\n",
       "      <td>-0.189115</td>\n",
       "      <td>0.133558</td>\n",
       "      <td>-0.021053</td>\n",
       "      <td>149.62</td>\n",
       "      <td>0</td>\n",
       "    </tr>\n",
       "    <tr>\n",
       "      <th>1</th>\n",
       "      <td>0.0</td>\n",
       "      <td>1.191857</td>\n",
       "      <td>0.266151</td>\n",
       "      <td>0.166480</td>\n",
       "      <td>0.448154</td>\n",
       "      <td>0.060018</td>\n",
       "      <td>-0.082361</td>\n",
       "      <td>-0.078803</td>\n",
       "      <td>0.085102</td>\n",
       "      <td>-0.255425</td>\n",
       "      <td>...</td>\n",
       "      <td>-0.225775</td>\n",
       "      <td>-0.638672</td>\n",
       "      <td>0.101288</td>\n",
       "      <td>-0.339846</td>\n",
       "      <td>0.167170</td>\n",
       "      <td>0.125895</td>\n",
       "      <td>-0.008983</td>\n",
       "      <td>0.014724</td>\n",
       "      <td>2.69</td>\n",
       "      <td>0</td>\n",
       "    </tr>\n",
       "    <tr>\n",
       "      <th>2</th>\n",
       "      <td>1.0</td>\n",
       "      <td>-1.358354</td>\n",
       "      <td>-1.340163</td>\n",
       "      <td>1.773209</td>\n",
       "      <td>0.379780</td>\n",
       "      <td>-0.503198</td>\n",
       "      <td>1.800499</td>\n",
       "      <td>0.791461</td>\n",
       "      <td>0.247676</td>\n",
       "      <td>-1.514654</td>\n",
       "      <td>...</td>\n",
       "      <td>0.247998</td>\n",
       "      <td>0.771679</td>\n",
       "      <td>0.909412</td>\n",
       "      <td>-0.689281</td>\n",
       "      <td>-0.327642</td>\n",
       "      <td>-0.139097</td>\n",
       "      <td>-0.055353</td>\n",
       "      <td>-0.059752</td>\n",
       "      <td>378.66</td>\n",
       "      <td>0</td>\n",
       "    </tr>\n",
       "    <tr>\n",
       "      <th>3</th>\n",
       "      <td>1.0</td>\n",
       "      <td>-0.966272</td>\n",
       "      <td>-0.185226</td>\n",
       "      <td>1.792993</td>\n",
       "      <td>-0.863291</td>\n",
       "      <td>-0.010309</td>\n",
       "      <td>1.247203</td>\n",
       "      <td>0.237609</td>\n",
       "      <td>0.377436</td>\n",
       "      <td>-1.387024</td>\n",
       "      <td>...</td>\n",
       "      <td>-0.108300</td>\n",
       "      <td>0.005274</td>\n",
       "      <td>-0.190321</td>\n",
       "      <td>-1.175575</td>\n",
       "      <td>0.647376</td>\n",
       "      <td>-0.221929</td>\n",
       "      <td>0.062723</td>\n",
       "      <td>0.061458</td>\n",
       "      <td>123.50</td>\n",
       "      <td>0</td>\n",
       "    </tr>\n",
       "    <tr>\n",
       "      <th>4</th>\n",
       "      <td>2.0</td>\n",
       "      <td>-1.158233</td>\n",
       "      <td>0.877737</td>\n",
       "      <td>1.548718</td>\n",
       "      <td>0.403034</td>\n",
       "      <td>-0.407193</td>\n",
       "      <td>0.095921</td>\n",
       "      <td>0.592941</td>\n",
       "      <td>-0.270533</td>\n",
       "      <td>0.817739</td>\n",
       "      <td>...</td>\n",
       "      <td>-0.009431</td>\n",
       "      <td>0.798278</td>\n",
       "      <td>-0.137458</td>\n",
       "      <td>0.141267</td>\n",
       "      <td>-0.206010</td>\n",
       "      <td>0.502292</td>\n",
       "      <td>0.219422</td>\n",
       "      <td>0.215153</td>\n",
       "      <td>69.99</td>\n",
       "      <td>0</td>\n",
       "    </tr>\n",
       "  </tbody>\n",
       "</table>\n",
       "<p>5 rows × 31 columns</p>\n",
       "</div>"
      ],
      "text/plain": [
       "   Time        V1        V2        V3        V4        V5        V6        V7  \\\n",
       "0   0.0 -1.359807 -0.072781  2.536347  1.378155 -0.338321  0.462388  0.239599   \n",
       "1   0.0  1.191857  0.266151  0.166480  0.448154  0.060018 -0.082361 -0.078803   \n",
       "2   1.0 -1.358354 -1.340163  1.773209  0.379780 -0.503198  1.800499  0.791461   \n",
       "3   1.0 -0.966272 -0.185226  1.792993 -0.863291 -0.010309  1.247203  0.237609   \n",
       "4   2.0 -1.158233  0.877737  1.548718  0.403034 -0.407193  0.095921  0.592941   \n",
       "\n",
       "         V8        V9  ...       V21       V22       V23       V24       V25  \\\n",
       "0  0.098698  0.363787  ... -0.018307  0.277838 -0.110474  0.066928  0.128539   \n",
       "1  0.085102 -0.255425  ... -0.225775 -0.638672  0.101288 -0.339846  0.167170   \n",
       "2  0.247676 -1.514654  ...  0.247998  0.771679  0.909412 -0.689281 -0.327642   \n",
       "3  0.377436 -1.387024  ... -0.108300  0.005274 -0.190321 -1.175575  0.647376   \n",
       "4 -0.270533  0.817739  ... -0.009431  0.798278 -0.137458  0.141267 -0.206010   \n",
       "\n",
       "        V26       V27       V28  Amount  Class  \n",
       "0 -0.189115  0.133558 -0.021053  149.62      0  \n",
       "1  0.125895 -0.008983  0.014724    2.69      0  \n",
       "2 -0.139097 -0.055353 -0.059752  378.66      0  \n",
       "3 -0.221929  0.062723  0.061458  123.50      0  \n",
       "4  0.502292  0.219422  0.215153   69.99      0  \n",
       "\n",
       "[5 rows x 31 columns]"
      ]
     },
     "execution_count": 4,
     "metadata": {},
     "output_type": "execute_result"
    }
   ],
   "source": [
    "df.head()"
   ]
  },
  {
   "cell_type": "markdown",
   "id": "4c692e82-e282-43d7-9bb2-9a9aca56e17f",
   "metadata": {},
   "source": [
    "# Exploratory Data Analysis"
   ]
  },
  {
   "cell_type": "markdown",
   "id": "61987218-59d3-45f4-99dd-e3e0f0c328b8",
   "metadata": {},
   "source": [
    "### Next we do some basic Exploratory Data Analysis to understand the structure of the data, starting with the shape attribute to get the number of rows and columns in the DataFrame."
   ]
  },
  {
   "cell_type": "code",
   "execution_count": 5,
   "id": "94e807c4-8d19-4040-84a6-b5eaeda8f3d4",
   "metadata": {},
   "outputs": [
    {
     "data": {
      "text/plain": [
       "(284807, 31)"
      ]
     },
     "execution_count": 5,
     "metadata": {},
     "output_type": "execute_result"
    }
   ],
   "source": [
    "df.shape"
   ]
  },
  {
   "cell_type": "markdown",
   "id": "b4e58c18-7ad0-4535-9490-3c0759672d83",
   "metadata": {},
   "source": [
    "### Next we use the describe method to get the count, mean, Standard Devaition, Median and other statistical attributes of the Data."
   ]
  },
  {
   "cell_type": "code",
   "execution_count": 6,
   "id": "b837a1e3-ae54-4ff4-933d-b223517a043b",
   "metadata": {},
   "outputs": [
    {
     "data": {
      "text/html": [
       "<div>\n",
       "<style scoped>\n",
       "    .dataframe tbody tr th:only-of-type {\n",
       "        vertical-align: middle;\n",
       "    }\n",
       "\n",
       "    .dataframe tbody tr th {\n",
       "        vertical-align: top;\n",
       "    }\n",
       "\n",
       "    .dataframe thead th {\n",
       "        text-align: right;\n",
       "    }\n",
       "</style>\n",
       "<table border=\"1\" class=\"dataframe\">\n",
       "  <thead>\n",
       "    <tr style=\"text-align: right;\">\n",
       "      <th></th>\n",
       "      <th>count</th>\n",
       "      <th>mean</th>\n",
       "      <th>std</th>\n",
       "      <th>min</th>\n",
       "      <th>25%</th>\n",
       "      <th>50%</th>\n",
       "      <th>75%</th>\n",
       "      <th>max</th>\n",
       "    </tr>\n",
       "  </thead>\n",
       "  <tbody>\n",
       "    <tr>\n",
       "      <th>Time</th>\n",
       "      <td>284807.0</td>\n",
       "      <td>9.481386e+04</td>\n",
       "      <td>47488.145955</td>\n",
       "      <td>0.000000</td>\n",
       "      <td>54201.500000</td>\n",
       "      <td>84692.000000</td>\n",
       "      <td>139320.500000</td>\n",
       "      <td>172792.000000</td>\n",
       "    </tr>\n",
       "    <tr>\n",
       "      <th>V1</th>\n",
       "      <td>284807.0</td>\n",
       "      <td>1.168375e-15</td>\n",
       "      <td>1.958696</td>\n",
       "      <td>-56.407510</td>\n",
       "      <td>-0.920373</td>\n",
       "      <td>0.018109</td>\n",
       "      <td>1.315642</td>\n",
       "      <td>2.454930</td>\n",
       "    </tr>\n",
       "    <tr>\n",
       "      <th>V2</th>\n",
       "      <td>284807.0</td>\n",
       "      <td>3.416908e-16</td>\n",
       "      <td>1.651309</td>\n",
       "      <td>-72.715728</td>\n",
       "      <td>-0.598550</td>\n",
       "      <td>0.065486</td>\n",
       "      <td>0.803724</td>\n",
       "      <td>22.057729</td>\n",
       "    </tr>\n",
       "    <tr>\n",
       "      <th>V3</th>\n",
       "      <td>284807.0</td>\n",
       "      <td>-1.379537e-15</td>\n",
       "      <td>1.516255</td>\n",
       "      <td>-48.325589</td>\n",
       "      <td>-0.890365</td>\n",
       "      <td>0.179846</td>\n",
       "      <td>1.027196</td>\n",
       "      <td>9.382558</td>\n",
       "    </tr>\n",
       "    <tr>\n",
       "      <th>V4</th>\n",
       "      <td>284807.0</td>\n",
       "      <td>2.074095e-15</td>\n",
       "      <td>1.415869</td>\n",
       "      <td>-5.683171</td>\n",
       "      <td>-0.848640</td>\n",
       "      <td>-0.019847</td>\n",
       "      <td>0.743341</td>\n",
       "      <td>16.875344</td>\n",
       "    </tr>\n",
       "    <tr>\n",
       "      <th>V5</th>\n",
       "      <td>284807.0</td>\n",
       "      <td>9.604066e-16</td>\n",
       "      <td>1.380247</td>\n",
       "      <td>-113.743307</td>\n",
       "      <td>-0.691597</td>\n",
       "      <td>-0.054336</td>\n",
       "      <td>0.611926</td>\n",
       "      <td>34.801666</td>\n",
       "    </tr>\n",
       "    <tr>\n",
       "      <th>V6</th>\n",
       "      <td>284807.0</td>\n",
       "      <td>1.487313e-15</td>\n",
       "      <td>1.332271</td>\n",
       "      <td>-26.160506</td>\n",
       "      <td>-0.768296</td>\n",
       "      <td>-0.274187</td>\n",
       "      <td>0.398565</td>\n",
       "      <td>73.301626</td>\n",
       "    </tr>\n",
       "    <tr>\n",
       "      <th>V7</th>\n",
       "      <td>284807.0</td>\n",
       "      <td>-5.556467e-16</td>\n",
       "      <td>1.237094</td>\n",
       "      <td>-43.557242</td>\n",
       "      <td>-0.554076</td>\n",
       "      <td>0.040103</td>\n",
       "      <td>0.570436</td>\n",
       "      <td>120.589494</td>\n",
       "    </tr>\n",
       "    <tr>\n",
       "      <th>V8</th>\n",
       "      <td>284807.0</td>\n",
       "      <td>1.213481e-16</td>\n",
       "      <td>1.194353</td>\n",
       "      <td>-73.216718</td>\n",
       "      <td>-0.208630</td>\n",
       "      <td>0.022358</td>\n",
       "      <td>0.327346</td>\n",
       "      <td>20.007208</td>\n",
       "    </tr>\n",
       "    <tr>\n",
       "      <th>V9</th>\n",
       "      <td>284807.0</td>\n",
       "      <td>-2.406331e-15</td>\n",
       "      <td>1.098632</td>\n",
       "      <td>-13.434066</td>\n",
       "      <td>-0.643098</td>\n",
       "      <td>-0.051429</td>\n",
       "      <td>0.597139</td>\n",
       "      <td>15.594995</td>\n",
       "    </tr>\n",
       "    <tr>\n",
       "      <th>V10</th>\n",
       "      <td>284807.0</td>\n",
       "      <td>2.239053e-15</td>\n",
       "      <td>1.088850</td>\n",
       "      <td>-24.588262</td>\n",
       "      <td>-0.535426</td>\n",
       "      <td>-0.092917</td>\n",
       "      <td>0.453923</td>\n",
       "      <td>23.745136</td>\n",
       "    </tr>\n",
       "    <tr>\n",
       "      <th>V11</th>\n",
       "      <td>284807.0</td>\n",
       "      <td>1.673327e-15</td>\n",
       "      <td>1.020713</td>\n",
       "      <td>-4.797473</td>\n",
       "      <td>-0.762494</td>\n",
       "      <td>-0.032757</td>\n",
       "      <td>0.739593</td>\n",
       "      <td>12.018913</td>\n",
       "    </tr>\n",
       "    <tr>\n",
       "      <th>V12</th>\n",
       "      <td>284807.0</td>\n",
       "      <td>-1.247012e-15</td>\n",
       "      <td>0.999201</td>\n",
       "      <td>-18.683715</td>\n",
       "      <td>-0.405571</td>\n",
       "      <td>0.140033</td>\n",
       "      <td>0.618238</td>\n",
       "      <td>7.848392</td>\n",
       "    </tr>\n",
       "    <tr>\n",
       "      <th>V13</th>\n",
       "      <td>284807.0</td>\n",
       "      <td>8.190001e-16</td>\n",
       "      <td>0.995274</td>\n",
       "      <td>-5.791881</td>\n",
       "      <td>-0.648539</td>\n",
       "      <td>-0.013568</td>\n",
       "      <td>0.662505</td>\n",
       "      <td>7.126883</td>\n",
       "    </tr>\n",
       "    <tr>\n",
       "      <th>V14</th>\n",
       "      <td>284807.0</td>\n",
       "      <td>1.207294e-15</td>\n",
       "      <td>0.958596</td>\n",
       "      <td>-19.214325</td>\n",
       "      <td>-0.425574</td>\n",
       "      <td>0.050601</td>\n",
       "      <td>0.493150</td>\n",
       "      <td>10.526766</td>\n",
       "    </tr>\n",
       "    <tr>\n",
       "      <th>V15</th>\n",
       "      <td>284807.0</td>\n",
       "      <td>4.887456e-15</td>\n",
       "      <td>0.915316</td>\n",
       "      <td>-4.498945</td>\n",
       "      <td>-0.582884</td>\n",
       "      <td>0.048072</td>\n",
       "      <td>0.648821</td>\n",
       "      <td>8.877742</td>\n",
       "    </tr>\n",
       "    <tr>\n",
       "      <th>V16</th>\n",
       "      <td>284807.0</td>\n",
       "      <td>1.437716e-15</td>\n",
       "      <td>0.876253</td>\n",
       "      <td>-14.129855</td>\n",
       "      <td>-0.468037</td>\n",
       "      <td>0.066413</td>\n",
       "      <td>0.523296</td>\n",
       "      <td>17.315112</td>\n",
       "    </tr>\n",
       "    <tr>\n",
       "      <th>V17</th>\n",
       "      <td>284807.0</td>\n",
       "      <td>-3.772171e-16</td>\n",
       "      <td>0.849337</td>\n",
       "      <td>-25.162799</td>\n",
       "      <td>-0.483748</td>\n",
       "      <td>-0.065676</td>\n",
       "      <td>0.399675</td>\n",
       "      <td>9.253526</td>\n",
       "    </tr>\n",
       "    <tr>\n",
       "      <th>V18</th>\n",
       "      <td>284807.0</td>\n",
       "      <td>9.564149e-16</td>\n",
       "      <td>0.838176</td>\n",
       "      <td>-9.498746</td>\n",
       "      <td>-0.498850</td>\n",
       "      <td>-0.003636</td>\n",
       "      <td>0.500807</td>\n",
       "      <td>5.041069</td>\n",
       "    </tr>\n",
       "    <tr>\n",
       "      <th>V19</th>\n",
       "      <td>284807.0</td>\n",
       "      <td>1.039917e-15</td>\n",
       "      <td>0.814041</td>\n",
       "      <td>-7.213527</td>\n",
       "      <td>-0.456299</td>\n",
       "      <td>0.003735</td>\n",
       "      <td>0.458949</td>\n",
       "      <td>5.591971</td>\n",
       "    </tr>\n",
       "    <tr>\n",
       "      <th>V20</th>\n",
       "      <td>284807.0</td>\n",
       "      <td>6.406204e-16</td>\n",
       "      <td>0.770925</td>\n",
       "      <td>-54.497720</td>\n",
       "      <td>-0.211721</td>\n",
       "      <td>-0.062481</td>\n",
       "      <td>0.133041</td>\n",
       "      <td>39.420904</td>\n",
       "    </tr>\n",
       "    <tr>\n",
       "      <th>V21</th>\n",
       "      <td>284807.0</td>\n",
       "      <td>1.654067e-16</td>\n",
       "      <td>0.734524</td>\n",
       "      <td>-34.830382</td>\n",
       "      <td>-0.228395</td>\n",
       "      <td>-0.029450</td>\n",
       "      <td>0.186377</td>\n",
       "      <td>27.202839</td>\n",
       "    </tr>\n",
       "    <tr>\n",
       "      <th>V22</th>\n",
       "      <td>284807.0</td>\n",
       "      <td>-3.568593e-16</td>\n",
       "      <td>0.725702</td>\n",
       "      <td>-10.933144</td>\n",
       "      <td>-0.542350</td>\n",
       "      <td>0.006782</td>\n",
       "      <td>0.528554</td>\n",
       "      <td>10.503090</td>\n",
       "    </tr>\n",
       "    <tr>\n",
       "      <th>V23</th>\n",
       "      <td>284807.0</td>\n",
       "      <td>2.578648e-16</td>\n",
       "      <td>0.624460</td>\n",
       "      <td>-44.807735</td>\n",
       "      <td>-0.161846</td>\n",
       "      <td>-0.011193</td>\n",
       "      <td>0.147642</td>\n",
       "      <td>22.528412</td>\n",
       "    </tr>\n",
       "    <tr>\n",
       "      <th>V24</th>\n",
       "      <td>284807.0</td>\n",
       "      <td>4.473266e-15</td>\n",
       "      <td>0.605647</td>\n",
       "      <td>-2.836627</td>\n",
       "      <td>-0.354586</td>\n",
       "      <td>0.040976</td>\n",
       "      <td>0.439527</td>\n",
       "      <td>4.584549</td>\n",
       "    </tr>\n",
       "    <tr>\n",
       "      <th>V25</th>\n",
       "      <td>284807.0</td>\n",
       "      <td>5.340915e-16</td>\n",
       "      <td>0.521278</td>\n",
       "      <td>-10.295397</td>\n",
       "      <td>-0.317145</td>\n",
       "      <td>0.016594</td>\n",
       "      <td>0.350716</td>\n",
       "      <td>7.519589</td>\n",
       "    </tr>\n",
       "    <tr>\n",
       "      <th>V26</th>\n",
       "      <td>284807.0</td>\n",
       "      <td>1.683437e-15</td>\n",
       "      <td>0.482227</td>\n",
       "      <td>-2.604551</td>\n",
       "      <td>-0.326984</td>\n",
       "      <td>-0.052139</td>\n",
       "      <td>0.240952</td>\n",
       "      <td>3.517346</td>\n",
       "    </tr>\n",
       "    <tr>\n",
       "      <th>V27</th>\n",
       "      <td>284807.0</td>\n",
       "      <td>-3.660091e-16</td>\n",
       "      <td>0.403632</td>\n",
       "      <td>-22.565679</td>\n",
       "      <td>-0.070840</td>\n",
       "      <td>0.001342</td>\n",
       "      <td>0.091045</td>\n",
       "      <td>31.612198</td>\n",
       "    </tr>\n",
       "    <tr>\n",
       "      <th>V28</th>\n",
       "      <td>284807.0</td>\n",
       "      <td>-1.227390e-16</td>\n",
       "      <td>0.330083</td>\n",
       "      <td>-15.430084</td>\n",
       "      <td>-0.052960</td>\n",
       "      <td>0.011244</td>\n",
       "      <td>0.078280</td>\n",
       "      <td>33.847808</td>\n",
       "    </tr>\n",
       "    <tr>\n",
       "      <th>Amount</th>\n",
       "      <td>284807.0</td>\n",
       "      <td>8.834962e+01</td>\n",
       "      <td>250.120109</td>\n",
       "      <td>0.000000</td>\n",
       "      <td>5.600000</td>\n",
       "      <td>22.000000</td>\n",
       "      <td>77.165000</td>\n",
       "      <td>25691.160000</td>\n",
       "    </tr>\n",
       "    <tr>\n",
       "      <th>Class</th>\n",
       "      <td>284807.0</td>\n",
       "      <td>1.727486e-03</td>\n",
       "      <td>0.041527</td>\n",
       "      <td>0.000000</td>\n",
       "      <td>0.000000</td>\n",
       "      <td>0.000000</td>\n",
       "      <td>0.000000</td>\n",
       "      <td>1.000000</td>\n",
       "    </tr>\n",
       "  </tbody>\n",
       "</table>\n",
       "</div>"
      ],
      "text/plain": [
       "           count          mean           std         min           25%  \\\n",
       "Time    284807.0  9.481386e+04  47488.145955    0.000000  54201.500000   \n",
       "V1      284807.0  1.168375e-15      1.958696  -56.407510     -0.920373   \n",
       "V2      284807.0  3.416908e-16      1.651309  -72.715728     -0.598550   \n",
       "V3      284807.0 -1.379537e-15      1.516255  -48.325589     -0.890365   \n",
       "V4      284807.0  2.074095e-15      1.415869   -5.683171     -0.848640   \n",
       "V5      284807.0  9.604066e-16      1.380247 -113.743307     -0.691597   \n",
       "V6      284807.0  1.487313e-15      1.332271  -26.160506     -0.768296   \n",
       "V7      284807.0 -5.556467e-16      1.237094  -43.557242     -0.554076   \n",
       "V8      284807.0  1.213481e-16      1.194353  -73.216718     -0.208630   \n",
       "V9      284807.0 -2.406331e-15      1.098632  -13.434066     -0.643098   \n",
       "V10     284807.0  2.239053e-15      1.088850  -24.588262     -0.535426   \n",
       "V11     284807.0  1.673327e-15      1.020713   -4.797473     -0.762494   \n",
       "V12     284807.0 -1.247012e-15      0.999201  -18.683715     -0.405571   \n",
       "V13     284807.0  8.190001e-16      0.995274   -5.791881     -0.648539   \n",
       "V14     284807.0  1.207294e-15      0.958596  -19.214325     -0.425574   \n",
       "V15     284807.0  4.887456e-15      0.915316   -4.498945     -0.582884   \n",
       "V16     284807.0  1.437716e-15      0.876253  -14.129855     -0.468037   \n",
       "V17     284807.0 -3.772171e-16      0.849337  -25.162799     -0.483748   \n",
       "V18     284807.0  9.564149e-16      0.838176   -9.498746     -0.498850   \n",
       "V19     284807.0  1.039917e-15      0.814041   -7.213527     -0.456299   \n",
       "V20     284807.0  6.406204e-16      0.770925  -54.497720     -0.211721   \n",
       "V21     284807.0  1.654067e-16      0.734524  -34.830382     -0.228395   \n",
       "V22     284807.0 -3.568593e-16      0.725702  -10.933144     -0.542350   \n",
       "V23     284807.0  2.578648e-16      0.624460  -44.807735     -0.161846   \n",
       "V24     284807.0  4.473266e-15      0.605647   -2.836627     -0.354586   \n",
       "V25     284807.0  5.340915e-16      0.521278  -10.295397     -0.317145   \n",
       "V26     284807.0  1.683437e-15      0.482227   -2.604551     -0.326984   \n",
       "V27     284807.0 -3.660091e-16      0.403632  -22.565679     -0.070840   \n",
       "V28     284807.0 -1.227390e-16      0.330083  -15.430084     -0.052960   \n",
       "Amount  284807.0  8.834962e+01    250.120109    0.000000      5.600000   \n",
       "Class   284807.0  1.727486e-03      0.041527    0.000000      0.000000   \n",
       "\n",
       "                 50%            75%            max  \n",
       "Time    84692.000000  139320.500000  172792.000000  \n",
       "V1          0.018109       1.315642       2.454930  \n",
       "V2          0.065486       0.803724      22.057729  \n",
       "V3          0.179846       1.027196       9.382558  \n",
       "V4         -0.019847       0.743341      16.875344  \n",
       "V5         -0.054336       0.611926      34.801666  \n",
       "V6         -0.274187       0.398565      73.301626  \n",
       "V7          0.040103       0.570436     120.589494  \n",
       "V8          0.022358       0.327346      20.007208  \n",
       "V9         -0.051429       0.597139      15.594995  \n",
       "V10        -0.092917       0.453923      23.745136  \n",
       "V11        -0.032757       0.739593      12.018913  \n",
       "V12         0.140033       0.618238       7.848392  \n",
       "V13        -0.013568       0.662505       7.126883  \n",
       "V14         0.050601       0.493150      10.526766  \n",
       "V15         0.048072       0.648821       8.877742  \n",
       "V16         0.066413       0.523296      17.315112  \n",
       "V17        -0.065676       0.399675       9.253526  \n",
       "V18        -0.003636       0.500807       5.041069  \n",
       "V19         0.003735       0.458949       5.591971  \n",
       "V20        -0.062481       0.133041      39.420904  \n",
       "V21        -0.029450       0.186377      27.202839  \n",
       "V22         0.006782       0.528554      10.503090  \n",
       "V23        -0.011193       0.147642      22.528412  \n",
       "V24         0.040976       0.439527       4.584549  \n",
       "V25         0.016594       0.350716       7.519589  \n",
       "V26        -0.052139       0.240952       3.517346  \n",
       "V27         0.001342       0.091045      31.612198  \n",
       "V28         0.011244       0.078280      33.847808  \n",
       "Amount     22.000000      77.165000   25691.160000  \n",
       "Class       0.000000       0.000000       1.000000  "
      ]
     },
     "execution_count": 6,
     "metadata": {},
     "output_type": "execute_result"
    }
   ],
   "source": [
    "df.describe().T"
   ]
  },
  {
   "cell_type": "code",
   "execution_count": 7,
   "id": "c456c0e3-a30e-4548-8ed1-53d75e056ee5",
   "metadata": {},
   "outputs": [
    {
     "name": "stdout",
     "output_type": "stream",
     "text": [
      "\u001b[1mHere we calculate the statistical relations of the fraud with time.\n",
      "Assuming the time is in seconds and it indicates the frequency of a fraud, we can imply that: \u001b[0m\n",
      "A credit card fraud, on average, takes place every 1 day, 2:20:14 hours\n",
      "The standard deviation of the time is 13:11:28 hours and the median is around 23:31:32 hours\n"
     ]
    }
   ],
   "source": [
    "print(\"\\033[1mHere we calculate the statistical relations of the fraud with time.\")\n",
    "\n",
    "print(\"Assuming the time is in seconds and it indicates the frequency of a fraud, we can imply that: \\033[0m\")\n",
    "print(f\"A credit card fraud, on average, takes place every {str(datetime.timedelta(seconds=94814))} hours\")\n",
    "print(f\"The standard deviation of the time is {str(datetime.timedelta(seconds=47488))} hours and the median is around {str(datetime.timedelta(seconds=84692))} hours\")"
   ]
  },
  {
   "cell_type": "markdown",
   "id": "e3bae63c-ddb7-470f-be22-a8697a84789a",
   "metadata": {},
   "source": [
    "\n",
    "### Some conclusions which can be drawn from the numerical statistics are as follows: \n",
    "- Assuming that the time feature is in seconds and indicates the frequency of the credit card fraud, we can see that \n",
    "    on average a fraud takes place every 94814 seconds or 1 day, 2 hours and 20 minutes.\n",
    "    However the standard deviation is around 13 hours and the median is around 23 hours, so the frauds may be more or less frequent, but are close to\n",
    "    1 credit card fraud per day. These are calculated in the cell above.\n",
    "- The other features (V1 to V28) are anonymous.\n",
    "- The mean of the other features is almost zero. They are in the order of $10^{-15}$ to $10^{-16}$, so there is a strong chance that the data has been normalized using Prinicipal Component Analysis or other standardization techniques.\n",
    "- The mean transaction amount is ~88, the standard deviation is ~250 and the median is ~22. As the median is much larger than the mean, it indicates that the amount is right skewed. There would be a some large outliers, but most values would be small. This is also indicated by the large difference between the 75th percentile which is ~77 and the maximum amount which is around 25.6k. Also the large standard deviation indicates that the data is spread apart. These conclusions are indicated by the visulations below: \n"
   ]
  },
  {
   "cell_type": "code",
   "execution_count": 8,
   "id": "73dacd5e-dfba-4778-8843-182e592e9c6d",
   "metadata": {},
   "outputs": [
    {
     "data": {
      "image/png": "[encoded data removed]",
      "text/plain": [
       "<Figure size 800x500 with 1 Axes>"
      ]
     },
     "metadata": {},
     "output_type": "display_data"
    }
   ],
   "source": [
    "plt.figure(figsize=(8,5))\n",
    "sns.histplot(df['Amount'], bins=50, kde=True, color='blue')\n",
    "\n",
    "# Adding labels and title\n",
    "plt.title('Distribution of Transaction Amounts', fontsize=16)\n",
    "plt.xlabel('Transaction Amount', fontsize=12)\n",
    "plt.ylabel('Frequency', fontsize=12)\n",
    "\n",
    "# Display the plot\n",
    "plt.show()"
   ]
  },
  {
   "cell_type": "markdown",
   "id": "462f2e39-acc3-4fae-8c93-49606277956d",
   "metadata": {},
   "source": [
    "### It can be seen that the amount is highly skewed to the right, with most values being under 100. To visualise just the smaller values (under 200), we can filter the amount to plot them:\n"
   ]
  },
  {
   "cell_type": "code",
   "execution_count": 9,
   "id": "4204090b-c0c3-4ce8-968f-a9c83b2d506e",
   "metadata": {},
   "outputs": [
    {
     "data": {
      "image/png": "[encoded data removed]",
      "text/plain": [
       "<Figure size 800x500 with 1 Axes>"
      ]
     },
     "metadata": {},
     "output_type": "display_data"
    }
   ],
   "source": [
    "filtered_data = df[df['Amount'] <= 200]  #Filtering amount for values under 200.\n",
    "\n",
    "# Plot the distribution of the 'Amount' feature in the specified range\n",
    "plt.figure(figsize=(8,5))\n",
    "sns.histplot(filtered_data['Amount'], bins=50, kde=True, color='green')\n",
    "\n",
    "# Adding labels and title\n",
    "plt.title('Distribution of Transaction Amounts (0 to 200)')\n",
    "plt.xlabel('Transaction Amount')\n",
    "plt.ylabel('Frequency')\n",
    "\n",
    "# Displaying the plot\n",
    "plt.show()\n"
   ]
  },
  {
   "cell_type": "markdown",
   "id": "3b385ac1-7f40-4bf2-adcd-2d91cf24b511",
   "metadata": {},
   "source": [
    "**The histogram reiterates that majority of the transactions are low valued, and the amount is highly right skewed.**"
   ]
  },
  {
   "cell_type": "markdown",
   "id": "42612b7a-c90c-43d9-8275-f2bbebe8a89c",
   "metadata": {},
   "source": [
    "### Next we see the distribution of the output label, class"
   ]
  },
  {
   "cell_type": "code",
   "execution_count": 10,
   "id": "d8a769d6-ce26-4827-8da4-3aa2fb04a2cf",
   "metadata": {},
   "outputs": [
    {
     "name": "stdout",
     "output_type": "stream",
     "text": [
      "Class\n",
      "0    284315\n",
      "1       492\n",
      "Name: count, dtype: int64\n",
      "\n",
      "The percentage of legitimate transactions: 99.83%\n",
      "Percentage of fraud transactions: 0.17%\n"
     ]
    }
   ],
   "source": [
    "print(df['Class'].value_counts())\n",
    "#Calculating the percentage of each class.\n",
    "percentage_class = (df['Class'].value_counts() / len(df)) * 100\n",
    "print(f\"\\nThe percentage of legitimate transactions: {percentage_class[0]:.2f}%\")\n",
    "print(f\"Percentage of fraud transactions: {percentage_class[1]:.2f}%\")"
   ]
  },
  {
   "cell_type": "markdown",
   "id": "153c0486-502e-4a0a-928f-94e86c91fc9c",
   "metadata": {},
   "source": [
    "### We can see that the class is highly imbalanced. There are kust 492 (0.17%) fraudulent transactions. This can also be seen by the bargraph of the class distribution below:"
   ]
  },
  {
   "cell_type": "code",
   "execution_count": 11,
   "id": "cda5ce3d-4a6e-4980-ba4d-b7987fb7e0da",
   "metadata": {},
   "outputs": [
    {
     "data": {
      "image/png": "[encoded data removed]",
      "text/plain": [
       "<Figure size 800x500 with 1 Axes>"
      ]
     },
     "metadata": {},
     "output_type": "display_data"
    }
   ],
   "source": [
    "class_count = df['Class'].value_counts()\n",
    "\n",
    "\n",
    "plt.figure(figsize=(8, 5))\n",
    "sns.barplot(x = class_count.index, y = class_count.values, width=0.5)\n",
    "plt.title('Class Distribution: Fraudulent vs Non-Fraudulent Transactions')\n",
    "plt.xlabel('Class (0 = Non-Fraud, 1 = Fraud)', fontsize=12)\n",
    "plt.ylabel('Frequency', fontsize=12)\n",
    "plt.show()"
   ]
  },
  {
   "cell_type": "markdown",
   "id": "bb058c53-c018-4294-9ab4-055658487bfe",
   "metadata": {},
   "source": [
    "### Next we find the correlation between the features and the target (class). "
   ]
  },
  {
   "cell_type": "markdown",
   "id": "9d570202-5c02-4e9d-b30f-b4db14f40ec2",
   "metadata": {},
   "source": [
    "**As the features (V1 to V28) are normalized, most likely by PCA, there is no correlation between them, as can be seen by the following heatmap.**"
   ]
  },
  {
   "cell_type": "code",
   "execution_count": 12,
   "id": "bcbcf82e-6699-48b6-9d09-9bf642c4296d",
   "metadata": {
    "scrolled": true
   },
   "outputs": [
    {
     "name": "stdout",
     "output_type": "stream",
     "text": [
      "            Time            V1            V2            V3            V4  \\\n",
      "Time    1.000000  1.173963e-01 -1.059333e-02 -4.196182e-01 -1.052602e-01   \n",
      "V1      0.117396  1.000000e+00  4.135835e-16 -1.227819e-15 -9.215150e-16   \n",
      "V2     -0.010593  4.135835e-16  1.000000e+00  3.243764e-16 -1.121065e-15   \n",
      "V3     -0.419618 -1.227819e-15  3.243764e-16  1.000000e+00  4.711293e-16   \n",
      "V4     -0.105260 -9.215150e-16 -1.121065e-15  4.711293e-16  1.000000e+00   \n",
      "V5      0.173072  1.812612e-17  5.157519e-16 -6.539009e-17 -1.719944e-15   \n",
      "V6     -0.063016 -6.506567e-16  2.787346e-16  1.627627e-15 -7.491959e-16   \n",
      "V7      0.084714 -1.005191e-15  2.055934e-16  4.895305e-16 -4.104503e-16   \n",
      "V8     -0.036949 -2.433822e-16 -5.377041e-17 -1.268779e-15  5.697192e-16   \n",
      "V9     -0.008660 -1.513678e-16  1.978488e-17  5.568367e-16  6.923247e-16   \n",
      "V10     0.030617  7.388135e-17 -3.991394e-16  1.156587e-15  2.232685e-16   \n",
      "V11    -0.247689  2.125498e-16  1.975426e-16  1.576830e-15  3.459380e-16   \n",
      "V12     0.124348  2.053457e-16 -9.568710e-17  6.310231e-16 -5.625518e-16   \n",
      "V13    -0.065902 -2.425603e-17  6.295388e-16  2.807652e-16  1.303306e-16   \n",
      "V14    -0.098757 -5.020280e-16 -1.730566e-16  4.739859e-16  2.282280e-16   \n",
      "V15    -0.183453  3.547782e-16 -4.995814e-17  9.068793e-16  1.377649e-16   \n",
      "V16     0.011903  7.212815e-17  1.177316e-17  8.299445e-16 -9.614528e-16   \n",
      "V17    -0.073297 -3.879840e-16 -2.685296e-16  7.614712e-16 -2.699612e-16   \n",
      "V18     0.090438  3.230206e-17  3.284605e-16  1.509897e-16 -5.103644e-16   \n",
      "V19     0.028975  1.502024e-16 -7.118719e-18  3.463522e-16 -3.980557e-16   \n",
      "V20    -0.050866  4.654551e-16  2.506675e-16 -9.316409e-16 -1.857247e-16   \n",
      "V21     0.044736 -2.457409e-16 -8.480447e-17  5.706192e-17 -1.949553e-16   \n",
      "V22     0.144059 -4.290944e-16  1.526333e-16 -1.133902e-15 -6.276051e-17   \n",
      "V23     0.051142  6.168652e-16  1.634231e-16 -4.983035e-16  9.164206e-17   \n",
      "V24    -0.016182 -4.425156e-17  1.247925e-17  2.686834e-19  1.584638e-16   \n",
      "V25    -0.233083 -9.605737e-16 -4.478846e-16 -1.104734e-15  6.070716e-16   \n",
      "V26    -0.041407 -1.581290e-17  2.057310e-16 -1.238062e-16 -4.247268e-16   \n",
      "V27    -0.005135  1.198124e-16 -4.966953e-16  1.045747e-15  3.977061e-17   \n",
      "V28    -0.009413  2.083082e-15 -5.093836e-16  9.775546e-16 -2.761403e-18   \n",
      "Amount -0.010596 -2.277087e-01 -5.314089e-01 -2.108805e-01  9.873167e-02   \n",
      "Class  -0.012323 -1.013473e-01  9.128865e-02 -1.929608e-01  1.334475e-01   \n",
      "\n",
      "                  V5            V6            V7            V8            V9  \\\n",
      "Time    1.730721e-01 -6.301647e-02  8.471437e-02 -3.694943e-02 -8.660434e-03   \n",
      "V1      1.812612e-17 -6.506567e-16 -1.005191e-15 -2.433822e-16 -1.513678e-16   \n",
      "V2      5.157519e-16  2.787346e-16  2.055934e-16 -5.377041e-17  1.978488e-17   \n",
      "V3     -6.539009e-17  1.627627e-15  4.895305e-16 -1.268779e-15  5.568367e-16   \n",
      "V4     -1.719944e-15 -7.491959e-16 -4.104503e-16  5.697192e-16  6.923247e-16   \n",
      "V5      1.000000e+00  2.408382e-16  2.715541e-16  7.437229e-16  7.391702e-16   \n",
      "V6      2.408382e-16  1.000000e+00  1.191668e-16 -1.104219e-16  4.131207e-16   \n",
      "V7      2.715541e-16  1.191668e-16  1.000000e+00  3.344412e-16  1.122501e-15   \n",
      "V8      7.437229e-16 -1.104219e-16  3.344412e-16  1.000000e+00  4.356078e-16   \n",
      "V9      7.391702e-16  4.131207e-16  1.122501e-15  4.356078e-16  1.000000e+00   \n",
      "V10    -5.202306e-16  5.932243e-17 -7.492834e-17 -2.801370e-16 -4.642274e-16   \n",
      "V11     7.203963e-16  1.980503e-15  1.425248e-16  2.487043e-16  1.354680e-16   \n",
      "V12     7.412552e-16  2.375468e-16 -3.536655e-18  1.839891e-16 -1.079314e-15   \n",
      "V13     5.886991e-16 -1.211182e-16  1.266462e-17 -2.921856e-16  2.251072e-15   \n",
      "V14     6.565143e-16  2.621312e-16  2.607772e-16 -8.599156e-16  3.784757e-15   \n",
      "V15    -8.720275e-16 -1.531188e-15 -1.690540e-16  4.127777e-16 -1.051167e-15   \n",
      "V16     2.246261e-15  2.623672e-18  5.869302e-17 -5.254741e-16 -1.214086e-15   \n",
      "V17     1.281914e-16  2.015618e-16  2.177192e-16 -2.269549e-16  1.113695e-15   \n",
      "V18     5.308590e-16  1.223814e-16  7.604126e-17 -3.667974e-16  4.993240e-16   \n",
      "V19    -1.450421e-16 -1.865597e-16 -1.881008e-16 -3.875186e-16 -1.376135e-16   \n",
      "V20    -3.554057e-16 -1.858755e-16  9.379684e-16  2.033737e-16 -2.343720e-16   \n",
      "V21    -3.920976e-16  5.833316e-17 -2.027779e-16  3.892798e-16  1.936953e-16   \n",
      "V22     1.253751e-16 -4.705235e-19 -8.898922e-16  2.026927e-16 -7.071869e-16   \n",
      "V23    -8.428683e-18  1.046712e-16 -4.387401e-16  6.377260e-17 -5.214137e-16   \n",
      "V24    -1.149255e-15 -1.071589e-15  7.434913e-18 -1.047097e-16 -1.430343e-16   \n",
      "V25     4.808532e-16  4.562861e-16 -3.094082e-16 -4.653279e-16  6.757763e-16   \n",
      "V26     4.319541e-16 -1.357067e-16 -9.657637e-16 -1.727276e-16 -7.888853e-16   \n",
      "V27     6.590482e-16 -4.452461e-16 -1.782106e-15  1.299943e-16 -6.709655e-17   \n",
      "V28    -5.613951e-18  2.594754e-16 -2.776530e-16 -6.200930e-16  1.110541e-15   \n",
      "Amount -3.863563e-01  2.159812e-01  3.973113e-01 -1.030791e-01 -4.424560e-02   \n",
      "Class  -9.497430e-02 -4.364316e-02 -1.872566e-01  1.987512e-02 -9.773269e-02   \n",
      "\n",
      "        ...           V21           V22           V23           V24  \\\n",
      "Time    ...  4.473573e-02  1.440591e-01  5.114236e-02 -1.618187e-02   \n",
      "V1      ... -2.457409e-16 -4.290944e-16  6.168652e-16 -4.425156e-17   \n",
      "V2      ... -8.480447e-17  1.526333e-16  1.634231e-16  1.247925e-17   \n",
      "V3      ...  5.706192e-17 -1.133902e-15 -4.983035e-16  2.686834e-19   \n",
      "V4      ... -1.949553e-16 -6.276051e-17  9.164206e-17  1.584638e-16   \n",
      "V5      ... -3.920976e-16  1.253751e-16 -8.428683e-18 -1.149255e-15   \n",
      "V6      ...  5.833316e-17 -4.705235e-19  1.046712e-16 -1.071589e-15   \n",
      "V7      ... -2.027779e-16 -8.898922e-16 -4.387401e-16  7.434913e-18   \n",
      "V8      ...  3.892798e-16  2.026927e-16  6.377260e-17 -1.047097e-16   \n",
      "V9      ...  1.936953e-16 -7.071869e-16 -5.214137e-16 -1.430343e-16   \n",
      "V10     ...  1.177547e-15 -6.418202e-16  3.214491e-16 -1.355885e-16   \n",
      "V11     ... -5.658364e-16  7.772895e-16 -4.505332e-16  1.933267e-15   \n",
      "V12     ...  7.300527e-16  1.644699e-16  1.800885e-16  4.436512e-16   \n",
      "V13     ...  1.008461e-16  6.747721e-17 -7.132064e-16 -1.397470e-16   \n",
      "V14     ... -3.356561e-16  3.740383e-16  3.883204e-16  2.003482e-16   \n",
      "V15     ...  6.605263e-17 -4.208921e-16 -3.912243e-16 -4.478263e-16   \n",
      "V16     ... -4.715090e-16 -7.923387e-17  5.020770e-16 -3.005985e-16   \n",
      "V17     ... -8.230527e-16 -8.743398e-16  3.706214e-16 -2.403828e-16   \n",
      "V18     ... -9.408680e-16 -4.819365e-16 -1.912006e-16 -8.986916e-17   \n",
      "V19     ...  5.115885e-16 -1.163768e-15  7.032035e-16  2.587708e-17   \n",
      "V20     ... -7.614597e-16  1.009285e-15  2.712885e-16  1.277215e-16   \n",
      "V21     ...  1.000000e+00  3.649908e-15  8.119580e-16  1.761054e-16   \n",
      "V22     ...  3.649908e-15  1.000000e+00 -7.303916e-17  9.970809e-17   \n",
      "V23     ...  8.119580e-16 -7.303916e-17  1.000000e+00  2.130519e-17   \n",
      "V24     ...  1.761054e-16  9.970809e-17  2.130519e-17  1.000000e+00   \n",
      "V25     ... -1.686082e-16 -5.018575e-16 -8.232727e-17  1.015391e-15   \n",
      "V26     ... -5.557329e-16 -2.503187e-17  1.114524e-15  1.343722e-16   \n",
      "V27     ... -1.211281e-15  8.461337e-17  2.839721e-16 -2.274142e-16   \n",
      "V28     ...  5.278775e-16 -6.627203e-16  1.481903e-15 -2.819805e-16   \n",
      "Amount  ...  1.059989e-01 -6.480065e-02 -1.126326e-01  5.146217e-03   \n",
      "Class   ...  4.041338e-02  8.053175e-04 -2.685156e-03 -7.220907e-03   \n",
      "\n",
      "                 V25           V26           V27           V28    Amount  \\\n",
      "Time   -2.330828e-01 -4.140710e-02 -5.134591e-03 -9.412688e-03 -0.010596   \n",
      "V1     -9.605737e-16 -1.581290e-17  1.198124e-16  2.083082e-15 -0.227709   \n",
      "V2     -4.478846e-16  2.057310e-16 -4.966953e-16 -5.093836e-16 -0.531409   \n",
      "V3     -1.104734e-15 -1.238062e-16  1.045747e-15  9.775546e-16 -0.210880   \n",
      "V4      6.070716e-16 -4.247268e-16  3.977061e-17 -2.761403e-18  0.098732   \n",
      "V5      4.808532e-16  4.319541e-16  6.590482e-16 -5.613951e-18 -0.386356   \n",
      "V6      4.562861e-16 -1.357067e-16 -4.452461e-16  2.594754e-16  0.215981   \n",
      "V7     -3.094082e-16 -9.657637e-16 -1.782106e-15 -2.776530e-16  0.397311   \n",
      "V8     -4.653279e-16 -1.727276e-16  1.299943e-16 -6.200930e-16 -0.103079   \n",
      "V9      6.757763e-16 -7.888853e-16 -6.709655e-17  1.110541e-15 -0.044246   \n",
      "V10    -2.846052e-16 -3.028119e-16 -2.197977e-16  4.864782e-17 -0.101502   \n",
      "V11    -5.600475e-16 -1.003221e-16 -2.640281e-16 -3.792314e-16  0.000104   \n",
      "V12    -5.712973e-16 -2.359969e-16 -4.672391e-16  6.415167e-16 -0.009542   \n",
      "V13    -5.497612e-16 -1.769255e-16 -4.720898e-16  1.144372e-15  0.005293   \n",
      "V14    -8.547932e-16 -1.660327e-16  1.044274e-16  2.289427e-15  0.033751   \n",
      "V15     3.206423e-16  2.817791e-16 -1.143519e-15 -1.194130e-15 -0.002986   \n",
      "V16    -1.345418e-15 -7.290010e-16  6.789513e-16  7.588849e-16 -0.003910   \n",
      "V17     2.666806e-16  6.932833e-16  6.148525e-16 -5.534540e-17  0.007309   \n",
      "V18    -6.629212e-17  2.990167e-16  2.242791e-16  7.976796e-16  0.035650   \n",
      "V19     9.577163e-16  5.898033e-16 -2.959370e-16 -1.405379e-15 -0.056151   \n",
      "V20     1.410054e-16 -2.803504e-16 -1.138829e-15 -2.436795e-16  0.339403   \n",
      "V21    -1.686082e-16 -5.557329e-16 -1.211281e-15  5.278775e-16  0.105999   \n",
      "V22    -5.018575e-16 -2.503187e-17  8.461337e-17 -6.627203e-16 -0.064801   \n",
      "V23    -8.232727e-17  1.114524e-15  2.839721e-16  1.481903e-15 -0.112633   \n",
      "V24     1.015391e-15  1.343722e-16 -2.274142e-16 -2.819805e-16  0.005146   \n",
      "V25     1.000000e+00  2.646517e-15 -6.406679e-16 -7.008939e-16 -0.047837   \n",
      "V26     2.646517e-15  1.000000e+00 -3.667715e-16 -2.782204e-16 -0.003208   \n",
      "V27    -6.406679e-16 -3.667715e-16  1.000000e+00 -3.061287e-16  0.028825   \n",
      "V28    -7.008939e-16 -2.782204e-16 -3.061287e-16  1.000000e+00  0.010258   \n",
      "Amount -4.783686e-02 -3.208037e-03  2.882546e-02  1.025822e-02  1.000000   \n",
      "Class   3.307706e-03  4.455398e-03  1.757973e-02  9.536041e-03  0.005632   \n",
      "\n",
      "           Class  \n",
      "Time   -0.012323  \n",
      "V1     -0.101347  \n",
      "V2      0.091289  \n",
      "V3     -0.192961  \n",
      "V4      0.133447  \n",
      "V5     -0.094974  \n",
      "V6     -0.043643  \n",
      "V7     -0.187257  \n",
      "V8      0.019875  \n",
      "V9     -0.097733  \n",
      "V10    -0.216883  \n",
      "V11     0.154876  \n",
      "V12    -0.260593  \n",
      "V13    -0.004570  \n",
      "V14    -0.302544  \n",
      "V15    -0.004223  \n",
      "V16    -0.196539  \n",
      "V17    -0.326481  \n",
      "V18    -0.111485  \n",
      "V19     0.034783  \n",
      "V20     0.020090  \n",
      "V21     0.040413  \n",
      "V22     0.000805  \n",
      "V23    -0.002685  \n",
      "V24    -0.007221  \n",
      "V25     0.003308  \n",
      "V26     0.004455  \n",
      "V27     0.017580  \n",
      "V28     0.009536  \n",
      "Amount  0.005632  \n",
      "Class   1.000000  \n",
      "\n",
      "[31 rows x 31 columns]\n"
     ]
    }
   ],
   "source": [
    "correlation_matrix = df.corr()\n",
    "print(correlation_matrix)"
   ]
  },
  {
   "cell_type": "markdown",
   "id": "e8a5ff9c-c276-4dcf-8be4-b7cfa05888c6",
   "metadata": {},
   "source": [
    "**We can find the correlation values between just the output and the features as follows:**"
   ]
  },
  {
   "cell_type": "code",
   "execution_count": 13,
   "id": "51b4283f-37cc-4ac5-9cf9-04dc37483bd2",
   "metadata": {},
   "outputs": [
    {
     "name": "stdout",
     "output_type": "stream",
     "text": [
      "Class     1.000000\n",
      "V11       0.154876\n",
      "V4        0.133447\n",
      "V2        0.091289\n",
      "V21       0.040413\n",
      "V19       0.034783\n",
      "V20       0.020090\n",
      "V8        0.019875\n",
      "V27       0.017580\n",
      "V28       0.009536\n",
      "Amount    0.005632\n",
      "V26       0.004455\n",
      "V25       0.003308\n",
      "V22       0.000805\n",
      "V23      -0.002685\n",
      "V15      -0.004223\n",
      "V13      -0.004570\n",
      "V24      -0.007221\n",
      "Time     -0.012323\n",
      "V6       -0.043643\n",
      "V5       -0.094974\n",
      "V9       -0.097733\n",
      "V1       -0.101347\n",
      "V18      -0.111485\n",
      "V7       -0.187257\n",
      "V3       -0.192961\n",
      "V16      -0.196539\n",
      "V10      -0.216883\n",
      "V12      -0.260593\n",
      "V14      -0.302544\n",
      "V17      -0.326481\n",
      "Name: Class, dtype: float64\n"
     ]
    }
   ],
   "source": [
    "correlations_with_target = df.corr()['Class'].sort_values(ascending=False)\n",
    "\n",
    "# Display the correlations\n",
    "print(correlations_with_target)\n"
   ]
  },
  {
   "cell_type": "markdown",
   "id": "23b55149-289b-47fa-95a0-9a7a32e8b3a5",
   "metadata": {},
   "source": [
    "### Next we look at how the fraud and non-fraud transactions are distributed across time and amount"
   ]
  },
  {
   "cell_type": "code",
   "execution_count": 14,
   "id": "03a1885c-e9de-404e-93ea-4e7acbe08dcc",
   "metadata": {},
   "outputs": [
    {
     "data": {
      "image/png": "[encoded data removed]",
      "text/plain": [
       "<Figure size 1200x600 with 1 Axes>"
      ]
     },
     "metadata": {},
     "output_type": "display_data"
    }
   ],
   "source": [
    "plt.figure(figsize=(12, 6))\n",
    "\n",
    "# Non-fraud transactions filtering for scatterplot\n",
    "sns.scatterplot(\n",
    "    data=df[df['Class'] == 0],\n",
    "    x='Time', y='Amount', label='Non-Fraud (Class 0)', color='blue'\n",
    ")\n",
    "\n",
    "# Fraud transactions filering for scatterplot\n",
    "sns.scatterplot(\n",
    "    data=df[df['Class'] == 1],\n",
    "    x='Time', y='Amount', label='Fraud (Class 1)',  color='red'\n",
    ")\n",
    "\n",
    "plt.title('Scatter Plot of Time vs. Amount', fontsize=14)\n",
    "plt.xlabel('Time', fontsize=12)\n",
    "plt.ylabel('Transaction Amount', fontsize=12)\n",
    "plt.legend()\n",
    "plt.show()"
   ]
  },
  {
   "cell_type": "markdown",
   "id": "832b7411-9eca-44c2-b263-421e0edd4ee8",
   "metadata": {},
   "source": [
    "### It can be seen there is no apparent relation between the fraudulent transactions and the time component. However the distribution of the amount with the fraud and non-fraud transactions is not very clear, as the scatter plots are heavily distributed in the lower amounts. We can calculate the average amount for fraud and non-fraud transactions to get an estimate of what amounts most fraud and legitimate transactions take place."
   ]
  },
  {
   "cell_type": "code",
   "execution_count": 15,
   "id": "c722c4ab-448c-4e95-bc18-b07c838ce675",
   "metadata": {},
   "outputs": [
    {
     "name": "stdout",
     "output_type": "stream",
     "text": [
      "The mean fraud transaction happens at an amount of 122.211\n",
      "The mean fraud transaction happens at an amount of 88.291\n"
     ]
    }
   ],
   "source": [
    "mean_fraud = df[df['Class'] == 1]['Amount'].mean()\n",
    "mean_non_fraud = df[df['Class'] == 0]['Amount'].mean()\n",
    "\n",
    "print(f\"The mean fraud transaction happens at an amount of {np.round(mean_fraud,3)}\")\n",
    "print(f\"The mean fraud transaction happens at an amount of {np.round(mean_non_fraud,3)}\")"
   ]
  },
  {
   "cell_type": "markdown",
   "id": "ebc85901-0c93-4489-8509-e1dd02ce3fbd",
   "metadata": {},
   "source": [
    "**The fraud transactions happen at a higher amount on average than the non-fraud transactions**"
   ]
  },
  {
   "cell_type": "markdown",
   "id": "06440863-b423-4665-b16a-4d02b45872ec",
   "metadata": {},
   "source": [
    "# Data Cleaning and Transformation"
   ]
  },
  {
   "cell_type": "markdown",
   "id": "c7bda81b-cda7-490b-bb4f-c4400ae8407c",
   "metadata": {},
   "source": [
    "### Next we mover towards cleaning the data. \n"
   ]
  },
  {
   "cell_type": "markdown",
   "id": "1e08feeb-62ab-484f-b63d-4d5f75fd9d4f",
   "metadata": {},
   "source": [
    "### First we can check if there are any missing values:"
   ]
  },
  {
   "cell_type": "code",
   "execution_count": 16,
   "id": "983c5eef-3d6e-4b4f-aa2b-a44257838786",
   "metadata": {},
   "outputs": [
    {
     "name": "stdout",
     "output_type": "stream",
     "text": [
      "Time      0\n",
      "V1        0\n",
      "V2        0\n",
      "V3        0\n",
      "V4        0\n",
      "V5        0\n",
      "V6        0\n",
      "V7        0\n",
      "V8        0\n",
      "V9        0\n",
      "V10       0\n",
      "V11       0\n",
      "V12       0\n",
      "V13       0\n",
      "V14       0\n",
      "V15       0\n",
      "V16       0\n",
      "V17       0\n",
      "V18       0\n",
      "V19       0\n",
      "V20       0\n",
      "V21       0\n",
      "V22       0\n",
      "V23       0\n",
      "V24       0\n",
      "V25       0\n",
      "V26       0\n",
      "V27       0\n",
      "V28       0\n",
      "Amount    0\n",
      "Class     0\n",
      "dtype: int64\n"
     ]
    }
   ],
   "source": [
    "#Checking for any missing values\n",
    "missing_values = df.isnull().sum()\n",
    "\n",
    "#Printing the number of missing values in each column\n",
    "print(missing_values)\n"
   ]
  },
  {
   "cell_type": "markdown",
   "id": "73a48d70-31cf-4ce6-b232-f636fbe481aa",
   "metadata": {},
   "source": [
    "### There are no missing values in any of the features/label"
   ]
  },
  {
   "cell_type": "markdown",
   "id": "04335a5c-1154-4821-bdea-f0ba089deb68",
   "metadata": {},
   "source": [
    "### Next we look at the outliers of the different features. As the anonymous features are normalized, they do not have significant outliers. The amount however does have outlying values as indicated by the following plot."
   ]
  },
  {
   "cell_type": "markdown",
   "id": "d89d3cd0-f0c7-425b-a840-8f43da60907d",
   "metadata": {},
   "source": [
    "### The box-plot is a good way to visualise the amount."
   ]
  },
  {
   "cell_type": "code",
   "execution_count": 17,
   "id": "3f3edf25-e510-4d5a-b49d-6b99cbea0011",
   "metadata": {},
   "outputs": [
    {
     "data": {
      "image/png": "[encoded data removed]",
      "text/plain": [
       "<Figure size 1000x600 with 1 Axes>"
      ]
     },
     "metadata": {},
     "output_type": "display_data"
    }
   ],
   "source": [
    "plt.figure(figsize=(10, 6))\n",
    "sns.boxplot(x=df['Amount'])\n",
    "plt.title('Boxplot of Amount')\n",
    "plt.show()"
   ]
  },
  {
   "cell_type": "markdown",
   "id": "f95c64e5-1f62-423f-8f38-9e99f5c22767",
   "metadata": {},
   "source": [
    "**The \"amount\" feature has a lot of outlier features as indicated by the box-plot above. This is expected as there are some higher amounts of credit card transactions, with the highest amount at around 25,000. However most transactions are concentrated at lower amounts of about 100. In this particular situation, however, we do not perfrom any Outlier treatment on the amount, as the higher amounts are indicative of an important aspect of credit card transactions.**"
   ]
  },
  {
   "cell_type": "markdown",
   "id": "cf6f85f7-644a-49d4-b8db-c6d51c4a5dc3",
   "metadata": {},
   "source": [
    "# Data Preprocessing"
   ]
  },
  {
   "cell_type": "markdown",
   "id": "1caf82ea-47d9-41a4-9ead-5fbd9b9516f1",
   "metadata": {},
   "source": [
    "**To begin with the creation of our fraud-detection model, we first need to split the data into training and testing sets. This ensures that we a dataset to train our model with and also a dataset to evluate the performance of the model. 80% of the data is used for training the models and the remaining 20% is kept for the testing.**"
   ]
  },
  {
   "cell_type": "markdown",
   "id": "201cceae-5513-41e8-81f4-433921204db6",
   "metadata": {},
   "source": [
    "### Train-test split"
   ]
  },
  {
   "cell_type": "code",
   "execution_count": 18,
   "id": "98ad5340-3a6b-4094-b3e9-0c282cdff8db",
   "metadata": {},
   "outputs": [],
   "source": [
    "from sklearn.model_selection import train_test_split\n",
    "\n",
    "X = df.drop('Class', axis=1)\n",
    "y = df['Class']\n",
    "\n",
    "#Splitting the data into train and test dataframes, in the ratio of 80:20. The stratify parameter is used and the output is passed to it\n",
    "#This ensures that the train and test dataframes have the same representation of the minority class.\n",
    "X_train, X_test, y_train, y_test = train_test_split(X, y, test_size=0.2, random_state=42, stratify=y)\n"
   ]
  },
  {
   "cell_type": "markdown",
   "id": "95c50a94-c114-42f0-9e5f-888da1de7097",
   "metadata": {},
   "source": [
    "**The train_test_split method is used to split the data into training and testing sets. Also the output labels ('y') are passed in the \"stratify\" parameter of the method. This method ensures that the output class labels are evenly distributed in the specified ratio (80:20). This is important because the number of data points which are fraudulent is extremely small (~0.17%), which if the data is randomly split might be completely eliminated in on of the dataframes. Also a random_state parameter is specified which ensures that the same results are replicated each time the program is executed.**\n",
    "\n",
    "\n",
    "\n",
    "**Next we check the shape of the train and test dataframes after splitting indicating an 80:20 split:**"
   ]
  },
  {
   "cell_type": "code",
   "execution_count": 19,
   "id": "c0d2836e-88fa-483f-b89a-d059d5fb1c73",
   "metadata": {},
   "outputs": [
    {
     "data": {
      "text/plain": [
       "((227845, 30), (56962, 30), (227845,), (56962,))"
      ]
     },
     "execution_count": 19,
     "metadata": {},
     "output_type": "execute_result"
    }
   ],
   "source": [
    "X_train.shape, X_test.shape, y_train.shape, y_test.shape"
   ]
  },
  {
   "cell_type": "markdown",
   "id": "e9352f89-5aad-411d-9ab2-62fd531d56a6",
   "metadata": {},
   "source": [
    "### SMOTE"
   ]
  },
  {
   "cell_type": "markdown",
   "id": "090ca04a-c964-4634-9dca-2297f31032fe",
   "metadata": {},
   "source": [
    "**Following the splitting of the data into train and test sets, because the data is highly imbalanced, with the fraud datapoints making up just 0.17% of the dataset, it is essential to balance out the data. Balancing the data is essential because if the data is extremely imabalanced the data models created to predict the fraud data would not make be accurate.**\n",
    "\n",
    "\n",
    "\n",
    "**To start to deal with the extreme data imbalance, we use the Synthetic Minority Oversampling Technique (SMOTE) from the imblearn module. The SMOTE module is used to create synthetic data points for the minority class. This process is called Oversampling. The sampling_strategy parameter of SMOTE is used to select the number of synthetic samples of the minority class that are created.**"
   ]
  },
  {
   "cell_type": "code",
   "execution_count": 20,
   "id": "dccc5cb0-82fe-4255-b3e3-a44ce205e278",
   "metadata": {},
   "outputs": [],
   "source": [
    "from imblearn.over_sampling import SMOTE\n",
    "from imblearn.under_sampling import RandomUnderSampler\n",
    "#initialising the SMOTE method\n",
    "smote = SMOTE(sampling_strategy=0.1, random_state=42)  # Oversample minority class \n",
    "\n",
    "#Fitting the training data on the method for oversampling\n",
    "X_train_smote, y_train_smote = smote.fit_resample(X_train, y_train)"
   ]
  },
  {
   "cell_type": "markdown",
   "id": "c2066527-cbf6-4409-9880-c7e347ddaa29",
   "metadata": {},
   "source": [
    "### Random Under Sampling"
   ]
  },
  {
   "cell_type": "markdown",
   "id": "23e98835-0e77-43c7-bb25-828d075c61db",
   "metadata": {},
   "source": [
    "**Following the creation of the synthetic minority data points, we need to ensure that the majority class is closer to the minority class to make the dataset more balanced. To do this we use the RandomUnderSampler, again from the imblearn module. The RandomUnderSampler reduces the number of instances of the majority class. The sampling_strategy parameter parameter decides the number (ratio) of the majority data samples left after Under sampling.**"
   ]
  },
  {
   "cell_type": "code",
   "execution_count": 21,
   "id": "dcd01aef-c21d-4747-8dea-5e8fbac32a3c",
   "metadata": {},
   "outputs": [],
   "source": [
    "#initialising the RandomUnderSampler method for undersampling the majority class\n",
    "undersampler = RandomUnderSampler(sampling_strategy=0.2, random_state=42) \n",
    "\n",
    "#Fitting the trained data on the method.\n",
    "X_train_upsampled, y_train_upsampled = undersampler.fit_resample(X_train_smote, y_train_smote)"
   ]
  },
  {
   "cell_type": "markdown",
   "id": "b0aab55c-5209-499c-beef-a7733da68fae",
   "metadata": {},
   "source": [
    "**Now we check the number of samples left after using SMOTE and RandomUnderSampler**"
   ]
  },
  {
   "cell_type": "code",
   "execution_count": 22,
   "id": "179cd274-478a-41cd-8fac-23e0252f83f8",
   "metadata": {},
   "outputs": [
    {
     "name": "stdout",
     "output_type": "stream",
     "text": [
      "Resampled dataset class distribution (after SMOTE and undersampling):\n",
      "Counter({0: 113725, 1: 22745})\n"
     ]
    }
   ],
   "source": [
    "from collections import Counter\n",
    "print(\"Resampled dataset class distribution (after SMOTE and undersampling):\")\n",
    "print(Counter(y_train_upsampled))"
   ]
  },
  {
   "cell_type": "markdown",
   "id": "3114711c-8901-4b74-8720-8c1d13c220b7",
   "metadata": {},
   "source": [
    "### Scaling"
   ]
  },
  {
   "cell_type": "markdown",
   "id": "7adbb223-fa00-426a-bd1c-469ba500889d",
   "metadata": {},
   "source": [
    "**Anoother important part of Data Transformation is to ensure that all the features of the dataset are represented on a similar scale. This is important because if one or more features are quantitatively large or small, they might get an incorrect representation during modelling, which could adversely effect the model's perfromance. As a result it is essential to bring the input features to a commom scale, so that all the features are equally represented, while their individual proportions are maintianed. This can be done using a number of Scaling techniques from SKLearn, but we use the StandardScaler here which scales most of the features (99.7%) in the range of -3 to 3, with a mean of 0 and standard deviation of 1.**"
   ]
  },
  {
   "cell_type": "code",
   "execution_count": 23,
   "id": "999778ae-673f-48be-8ef9-93ca90565a82",
   "metadata": {},
   "outputs": [
    {
     "name": "stdout",
     "output_type": "stream",
     "text": [
      "X_scaled type after conversion: <class 'numpy.ndarray'>\n",
      "X_scaled shape after conversion: (136470, 30)\n"
     ]
    }
   ],
   "source": [
    "from sklearn.preprocessing import StandardScaler\n",
    "#initialising the method\n",
    "scaler = StandardScaler()\n",
    "\n",
    "# Apply scaling to the training features\n",
    "X_train_scaled = scaler.fit_transform(X_train_upsampled)\n",
    "\n",
    "# Checking the type and shape again\n",
    "print(f\"X_scaled type after conversion: {type(X_train_scaled)}\")\n",
    "print(f\"X_scaled shape after conversion: {X_train_scaled.shape}\")"
   ]
  },
  {
   "cell_type": "markdown",
   "id": "344b43de-e4db-4d7a-8494-85d1e2f034dc",
   "metadata": {},
   "source": [
    "# Data Modelling"
   ]
  },
  {
   "cell_type": "markdown",
   "id": "f1a1442c-a8f2-4945-9b1b-95410e134712",
   "metadata": {},
   "source": [
    "**After transforming the data into an appropriate form which can be used for modelling, we can begin creating out Machine Learning models for fraud prediction. Classification is a fundamental Machine Learning problem and there are several models which can be used to for classification. Some of them are used here.**\n",
    "\n",
    "\n",
    "\n",
    "**We start with Logistic Regression. We first initialise the Logistic Regrerssion model, then fit it on the training set.**"
   ]
  },
  {
   "cell_type": "markdown",
   "id": "91945542-1c9f-456a-87cf-a5994f94bf64",
   "metadata": {},
   "source": [
    "## Logistic Regression"
   ]
  },
  {
   "cell_type": "markdown",
   "id": "0edec7a8-8d98-478d-ae0e-98f7e20214d9",
   "metadata": {},
   "source": [
    "**The first step of making an ML model is to initialise it and fit the input features and the output label dataframes. This is done for the Logistic Regression model in the following cell. Some hyperparameters appropriate for the problem are also specified. A regularization parameter C is fixed to a low value due to the high imabalance in the data.**"
   ]
  },
  {
   "cell_type": "code",
   "execution_count": 24,
   "id": "ab72ab8c-44b6-4bb4-a3f9-3fee78e3b64a",
   "metadata": {},
   "outputs": [
    {
     "data": {
      "text/html": [
       "<style>#sk-container-id-1 {color: black;background-color: white;}#sk-container-id-1 pre{padding: 0;}#sk-container-id-1 div.sk-toggleable {background-color: white;}#sk-container-id-1 label.sk-toggleable__label {cursor: pointer;display: block;width: 100%;margin-bottom: 0;padding: 0.3em;box-sizing: border-box;text-align: center;}#sk-container-id-1 label.sk-toggleable__label-arrow:before {content: \"▸\";float: left;margin-right: 0.25em;color: #696969;}#sk-container-id-1 label.sk-toggleable__label-arrow:hover:before {color: black;}#sk-container-id-1 div.sk-estimator:hover label.sk-toggleable__label-arrow:before {color: black;}#sk-container-id-1 div.sk-toggleable__content {max-height: 0;max-width: 0;overflow: hidden;text-align: left;background-color: #f0f8ff;}#sk-container-id-1 div.sk-toggleable__content pre {margin: 0.2em;color: black;border-radius: 0.25em;background-color: #f0f8ff;}#sk-container-id-1 input.sk-toggleable__control:checked~div.sk-toggleable__content {max-height: 200px;max-width: 100%;overflow: auto;}#sk-container-id-1 input.sk-toggleable__control:checked~label.sk-toggleable__label-arrow:before {content: \"▾\";}#sk-container-id-1 div.sk-estimator input.sk-toggleable__control:checked~label.sk-toggleable__label {background-color: #d4ebff;}#sk-container-id-1 div.sk-label input.sk-toggleable__control:checked~label.sk-toggleable__label {background-color: #d4ebff;}#sk-container-id-1 input.sk-hidden--visually {border: 0;clip: rect(1px 1px 1px 1px);clip: rect(1px, 1px, 1px, 1px);height: 1px;margin: -1px;overflow: hidden;padding: 0;position: absolute;width: 1px;}#sk-container-id-1 div.sk-estimator {font-family: monospace;background-color: #f0f8ff;border: 1px dotted black;border-radius: 0.25em;box-sizing: border-box;margin-bottom: 0.5em;}#sk-container-id-1 div.sk-estimator:hover {background-color: #d4ebff;}#sk-container-id-1 div.sk-parallel-item::after {content: \"\";width: 100%;border-bottom: 1px solid gray;flex-grow: 1;}#sk-container-id-1 div.sk-label:hover label.sk-toggleable__label {background-color: #d4ebff;}#sk-container-id-1 div.sk-serial::before {content: \"\";position: absolute;border-left: 1px solid gray;box-sizing: border-box;top: 0;bottom: 0;left: 50%;z-index: 0;}#sk-container-id-1 div.sk-serial {display: flex;flex-direction: column;align-items: center;background-color: white;padding-right: 0.2em;padding-left: 0.2em;position: relative;}#sk-container-id-1 div.sk-item {position: relative;z-index: 1;}#sk-container-id-1 div.sk-parallel {display: flex;align-items: stretch;justify-content: center;background-color: white;position: relative;}#sk-container-id-1 div.sk-item::before, #sk-container-id-1 div.sk-parallel-item::before {content: \"\";position: absolute;border-left: 1px solid gray;box-sizing: border-box;top: 0;bottom: 0;left: 50%;z-index: -1;}#sk-container-id-1 div.sk-parallel-item {display: flex;flex-direction: column;z-index: 1;position: relative;background-color: white;}#sk-container-id-1 div.sk-parallel-item:first-child::after {align-self: flex-end;width: 50%;}#sk-container-id-1 div.sk-parallel-item:last-child::after {align-self: flex-start;width: 50%;}#sk-container-id-1 div.sk-parallel-item:only-child::after {width: 0;}#sk-container-id-1 div.sk-dashed-wrapped {border: 1px dashed gray;margin: 0 0.4em 0.5em 0.4em;box-sizing: border-box;padding-bottom: 0.4em;background-color: white;}#sk-container-id-1 div.sk-label label {font-family: monospace;font-weight: bold;display: inline-block;line-height: 1.2em;}#sk-container-id-1 div.sk-label-container {text-align: center;}#sk-container-id-1 div.sk-container {/* jupyter's `normalize.less` sets `[hidden] { display: none; }` but bootstrap.min.css set `[hidden] { display: none !important; }` so we also need the `!important` here to be able to override the default hidden behavior on the sphinx rendered scikit-learn.org. See: https://github.com/scikit-learn/scikit-learn/issues/21755 */display: inline-block !important;position: relative;}#sk-container-id-1 div.sk-text-repr-fallback {display: none;}</style><div id=\"sk-container-id-1\" class=\"sk-top-container\"><div class=\"sk-text-repr-fallback\"><pre>LogisticRegression(C=0.0001, max_iter=1000, random_state=42)</pre><b>In a Jupyter environment, please rerun this cell to show the HTML representation or trust the notebook. <br />On GitHub, the HTML representation is unable to render, please try loading this page with nbviewer.org.</b></div><div class=\"sk-container\" hidden><div class=\"sk-item\"><div class=\"sk-estimator sk-toggleable\"><input class=\"sk-toggleable__control sk-hidden--visually\" id=\"sk-estimator-id-1\" type=\"checkbox\" checked><label for=\"sk-estimator-id-1\" class=\"sk-toggleable__label sk-toggleable__label-arrow\">LogisticRegression</label><div class=\"sk-toggleable__content\"><pre>LogisticRegression(C=0.0001, max_iter=1000, random_state=42)</pre></div></div></div></div></div>"
      ],
      "text/plain": [
       "LogisticRegression(C=0.0001, max_iter=1000, random_state=42)"
      ]
     },
     "execution_count": 24,
     "metadata": {},
     "output_type": "execute_result"
    }
   ],
   "source": [
    "from sklearn.linear_model import LogisticRegression\n",
    "from sklearn.metrics import classification_report, confusion_matrix, accuracy_score\n",
    "\n",
    "# Initialize the Logistic Regression model\n",
    "logreg = LogisticRegression(random_state=42, max_iter=1000, C=0.0001)\n",
    "\n",
    "# Fitting the model on the training set\n",
    "logreg.fit(X_train_scaled, y_train_upsampled)\n"
   ]
  },
  {
   "cell_type": "markdown",
   "id": "516ef919-e160-421b-8af7-4b30c2f214d0",
   "metadata": {},
   "source": [
    "**<u>Model Evaluation:</u> There are several methods to evaluate the performance of a model. Some of these include accuracy, precision, recall, etc. However it is important to choose the correct evaluation metric for the model. Choosing the evaluation metric depends on a number of factors, including the type and nature of the problem, and the threhold tolerance.**\n",
    "**For a problem like credit card fraud prediction, it is important to correctly identify frauds and catch them. Missing frauds or misclassifying them can be a big financial problem. Hence selecting an appropriate evaluation metric is essential to correctly estimate and evaluate the performance of the model. The following are the most common evaluation metrics and their meaning in context to credit card fraud prediction.**\n",
    "- **<u>Accuracy:</u> Accuracy denotes the models ability to correctly predict an observation (fraud or non-fraud). It is not such a good metric in the context of fraud prediction as it also gives a major weightage to the non-fraud records, which might skew the results to a high value due to the inherent imbalance in the data, and this might not be necessarily indicative of a good classification model and can be misleading.**\n",
    "- **<u>Precision:</u> Precision tells us the ratio of the correctly predicted frauds, to the total predicted frauds. This is a good metric in the context of fraud prediction because it quantifies the rate of correct prediction.**\n",
    "- **<u>Recall:</u> Recall is the ratio of the correctly predicted frauds to the actual frauds. It is again a good metric for this particular context.**\n",
    "- **<u>F1-score:</u> F1-score is the Harmonic mean of the precision and recall. It combines both precision and recall and gives us a well rounded evaluation metric for fraud-prediction. F1-score is the metric which would be used to compare the different models in this project, though the previosuly mentioned metrics would also be computed.**\n",
    "- **<u>Confusion Matrix:</u> It is a 2x2 which indicates the following values: True Positive (non-fraud detected as non-fraud), False Positive(non-fraud detected as fraud - type-1 error), False Negative(fraud detected as non-fraud - type-2 error), True Negative(fraud detected as fraud).\n",
    "The matrix is represented as follows: $ \\begin{bmatrix} TP & FN \\\\ FP & TN \\end{bmatrix} $**"
   ]
  },
  {
   "cell_type": "markdown",
   "id": "a8be576e-e1a8-49ae-a82b-32ad394ca009",
   "metadata": {},
   "source": [
    "**After fitting the model, we predict the labels for the training data using the predict method. After predicting the labels we can evaluate the model's performance as shown in the next cell.**"
   ]
  },
  {
   "cell_type": "code",
   "execution_count": 25,
   "id": "9edca12a-ff2f-4570-8224-64c2b4bcb863",
   "metadata": {},
   "outputs": [
    {
     "name": "stdout",
     "output_type": "stream",
     "text": [
      "Training Accuracy Score: 0.9662709753059281\n",
      "\n",
      "Training Confusion Matrix:\n",
      " [[113693     32]\n",
      " [  4571  18174]]\n",
      "\n",
      "Training Classification Report:\n",
      "               precision    recall  f1-score   support\n",
      "\n",
      "           0       0.96      1.00      0.98    113725\n",
      "           1       1.00      0.80      0.89     22745\n",
      "\n",
      "    accuracy                           0.97    136470\n",
      "   macro avg       0.98      0.90      0.93    136470\n",
      "weighted avg       0.97      0.97      0.96    136470\n",
      "\n"
     ]
    }
   ],
   "source": [
    "# Predicting on the training set\n",
    "y_train_pred = logreg.predict(X_train_scaled)\n",
    "\n",
    "# Evaluating the model on the training set\n",
    "print(\"Training Accuracy Score:\", accuracy_score(y_train_upsampled, y_train_pred))\n",
    "print(\"\\nTraining Confusion Matrix:\\n\", confusion_matrix(y_train_upsampled, y_train_pred))\n",
    "print(\"\\nTraining Classification Report:\\n\", classification_report(y_train_upsampled, y_train_pred))\n"
   ]
  },
  {
   "cell_type": "markdown",
   "id": "39dcb8ad-6909-4aed-8dc4-8b4dc0feb495",
   "metadata": {},
   "source": [
    "**After evaluating the model on the training data, it is important to test the model on unseen data to find how it performs on new data it has not encountered during training. The evaluation metrics obtained on the test data are a good indication of the model's perfromance. The following cell indicates the model's performance on the test data.**"
   ]
  },
  {
   "cell_type": "code",
   "execution_count": 26,
   "id": "0319ab71-ed3b-4c65-b8e4-a8ced464e366",
   "metadata": {},
   "outputs": [
    {
     "name": "stdout",
     "output_type": "stream",
     "text": [
      "Test Accuracy Score: 0.9991397773954567\n",
      "\n",
      "Test Confusion Matrix:\n",
      " [[56833    31]\n",
      " [   18    80]]\n",
      "\n",
      "Test Classification Report:\n",
      "               precision    recall  f1-score   support\n",
      "\n",
      "           0       1.00      1.00      1.00     56864\n",
      "           1       0.72      0.82      0.77        98\n",
      "\n",
      "    accuracy                           1.00     56962\n",
      "   macro avg       0.86      0.91      0.88     56962\n",
      "weighted avg       1.00      1.00      1.00     56962\n",
      "\n"
     ]
    }
   ],
   "source": [
    "#Predicting the test output:\n",
    "X_test_scaled = scaler.transform(X_test)\n",
    "y_test_pred = logreg.predict(X_test_scaled)\n",
    "from sklearn.metrics import classification_report, confusion_matrix, accuracy_score\n",
    "\n",
    "#Evaluating the model on the test set:\n",
    "print(\"Test Accuracy Score:\", accuracy_score(y_test, y_test_pred))\n",
    "print(\"\\nTest Confusion Matrix:\\n\", confusion_matrix(y_test, y_test_pred))\n",
    "print(\"\\nTest Classification Report:\\n\", classification_report(y_test, y_test_pred))"
   ]
  },
  {
   "cell_type": "markdown",
   "id": "eb89981b-0513-49fe-a8e1-81b46c65198a",
   "metadata": {},
   "source": [
    "**<u>We get an F1-score of 0.77 for the Logistic Regression model on the test set</u>**"
   ]
  },
  {
   "cell_type": "markdown",
   "id": "a655d83e-2753-42db-b440-6ea0dba0264e",
   "metadata": {},
   "source": [
    "**Another good metric to evaluate the model performance is the ROC-AUC. Receiver Operating Characteristic) Curve: It is a plot of the True Positive Rate (TPR) (a.k.a. Recall) against the False Positive Rate (FPR). AUC (Area Under the Curve): The area under the ROC curve. It represents the model's ability to distinguish between classes. Next we plot the curve and compute the area under it:**"
   ]
  },
  {
   "cell_type": "code",
   "execution_count": 27,
   "id": "8940278c-f58e-4457-9850-8ed626b59f8b",
   "metadata": {},
   "outputs": [
    {
     "name": "stdout",
     "output_type": "stream",
     "text": [
      "ROC-AUC Score: 0.9759\n"
     ]
    },
    {
     "data": {
      "image/png": "[encoded data removed]",
      "text/plain": [
       "<Figure size 800x600 with 1 Axes>"
      ]
     },
     "metadata": {},
     "output_type": "display_data"
    }
   ],
   "source": [
    "from sklearn.metrics import roc_auc_score, roc_curve\n",
    "import matplotlib.pyplot as plt\n",
    "\n",
    "#Predicting test probabilities\n",
    "y_test_probs = logreg.predict_proba(X_test_scaled)[:, 1]  \n",
    "roc_auc = roc_auc_score(y_test, y_test_probs)\n",
    "print(f\"ROC-AUC Score: {roc_auc:.4f}\")\n",
    "\n",
    "fpr, tpr, thresholds = roc_curve(y_test, y_test_probs)\n",
    "\n",
    "plt.figure(figsize=(8, 6))\n",
    "plt.plot(fpr, tpr, color='blue', label=f'ROC Curve (AUC = {roc_auc:.4f})')\n",
    "plt.plot([0, 1], [0, 1], color='gray', linestyle='--', label='Random Classifier')\n",
    "plt.xlabel('False Positive Rate (FPR)', fontsize=12)\n",
    "plt.ylabel('True Positive Rate (Recall)', fontsize=12)\n",
    "plt.title('Receiver Operating Characteristic (ROC) Curve', fontsize=14)\n",
    "plt.legend(fontsize=12)\n",
    "plt.grid(alpha=0.3)\n",
    "plt.show()\n"
   ]
  },
  {
   "cell_type": "markdown",
   "id": "67c29da6-01d3-4f6a-880f-be65eb39f130",
   "metadata": {},
   "source": [
    "#### Cross Validation"
   ]
  },
  {
   "cell_type": "markdown",
   "id": "f04caa08-25f0-4a7f-803d-b649cb95a954",
   "metadata": {},
   "source": [
    "**After evaluating the ML model, it**"
   ]
  },
  {
   "cell_type": "code",
   "execution_count": 28,
   "id": "1150145f-c233-466b-95ad-495fb8169e6e",
   "metadata": {},
   "outputs": [
    {
     "name": "stdout",
     "output_type": "stream",
     "text": [
      "Cross-validation precision scores: [0.74757282 0.78301887 0.82291667 0.79787234 0.73394495]\n",
      "Average precision score: 0.7770651289358297\n"
     ]
    }
   ],
   "source": [
    "from sklearn.model_selection import StratifiedKFold\n",
    "from sklearn.model_selection import cross_val_score\n",
    "from sklearn.linear_model import LogisticRegression\n",
    "from sklearn.metrics import make_scorer, precision_score\n",
    "from imblearn.over_sampling import SMOTE\n",
    "from sklearn.preprocessing import StandardScaler\n",
    "from imblearn.pipeline import Pipeline\n",
    "\n",
    "logreg = LogisticRegression(random_state=42, max_iter=1000, C=0.0001)\n",
    "\n",
    "cv = StratifiedKFold(n_splits=5, shuffle=True, random_state=42)\n",
    "\n",
    "smote = SMOTE(sampling_strategy=0.1, random_state=42)\n",
    "undersampler = RandomUnderSampler(sampling_strategy=0.2, random_state=42)  # Balance the classes\n",
    "scaler = StandardScaler()\n",
    "\n",
    "pipeline = Pipeline([\n",
    "   ('smote', smote),\n",
    "     ('scaler', scaler),\n",
    "    ('undersampler',undersampler),\n",
    "    ('model', logreg)\n",
    "])\n",
    "\n",
    "precision_scorer = make_scorer(precision_score)\n",
    "cv_scores = cross_val_score(pipeline, X, y, cv=cv, scoring=precision_scorer)\n",
    "\n",
    "print(f\"Cross-validation precision scores: {cv_scores}\")\n",
    "print(f\"Average precision score: {cv_scores.mean()}\")\n"
   ]
  },
  {
   "cell_type": "markdown",
   "id": "02fbb589-d6b8-4500-bfa3-4d58b5f45cbf",
   "metadata": {},
   "source": [
    "**The average cross validation F1-score is also around 0.77**"
   ]
  },
  {
   "cell_type": "markdown",
   "id": "8ae8c3c0-6463-410c-8d26-6322a43391c6",
   "metadata": {},
   "source": [
    "## Support Vector Machine"
   ]
  },
  {
   "cell_type": "markdown",
   "id": "3f90c0dd-6a19-45da-96b2-d391c3eaba11",
   "metadata": {},
   "source": [
    "**Now we use a distance based ML model called Support Vector Machine (SVM). SVM is a distance-based algorithm, as its decision-making process relies on finding the optimal hyperplane that maximizes the margin (distance) between classes. In a 2D space, this hyperplane is a line; in a 3D space, it’s a plane, and in higher dimensions, it’s a hyperplane. SVM maximizes the margin, which is the distance between the hyperplane and the nearest data points from both classes.**\n"
   ]
  },
  {
   "cell_type": "markdown",
   "id": "b02ebe8b-efb4-4db4-96f2-01eaabfb2382",
   "metadata": {},
   "source": [
    "**An important part of classification using SVM, is selecting an appropriate kernel which is a mathematical function used to transform the input data into a higher-dimensional space where a linear hyperplane can better separate the classes. Some common kernels used in SVM include linear, polynomial, radial basis function etc. For our project we use a linear and a polynomial kernel, specified by the kernel parameter in the SVC method. A regularization paramter (C) is also specified. A lower value of C is used which helps in lowering the chances of overfitting.**"
   ]
  },
  {
   "cell_type": "code",
   "execution_count": 29,
   "id": "3fa26a0a-e304-4985-9872-0ccaa3d905b3",
   "metadata": {},
   "outputs": [],
   "source": [
    "# Import necessary libraries\n",
    "from sklearn.svm import SVC\n",
    "from sklearn.metrics import classification_report, confusion_matrix, roc_auc_score, RocCurveDisplay\n",
    "\n",
    "# Initialize the SVM model with class weight balanced. A low C value is used to reduce chances of overfitting.A linear kernel is used.\n",
    "svm_model = SVC(kernel='linear', class_weight='balanced', C=0.001, random_state=42, probability=True) \n"
   ]
  },
  {
   "cell_type": "code",
   "execution_count": 30,
   "id": "1a3730c5-51bd-4ea8-a177-badda244e320",
   "metadata": {},
   "outputs": [
    {
     "data": {
      "text/html": [
       "<style>#sk-container-id-2 {color: black;background-color: white;}#sk-container-id-2 pre{padding: 0;}#sk-container-id-2 div.sk-toggleable {background-color: white;}#sk-container-id-2 label.sk-toggleable__label {cursor: pointer;display: block;width: 100%;margin-bottom: 0;padding: 0.3em;box-sizing: border-box;text-align: center;}#sk-container-id-2 label.sk-toggleable__label-arrow:before {content: \"▸\";float: left;margin-right: 0.25em;color: #696969;}#sk-container-id-2 label.sk-toggleable__label-arrow:hover:before {color: black;}#sk-container-id-2 div.sk-estimator:hover label.sk-toggleable__label-arrow:before {color: black;}#sk-container-id-2 div.sk-toggleable__content {max-height: 0;max-width: 0;overflow: hidden;text-align: left;background-color: #f0f8ff;}#sk-container-id-2 div.sk-toggleable__content pre {margin: 0.2em;color: black;border-radius: 0.25em;background-color: #f0f8ff;}#sk-container-id-2 input.sk-toggleable__control:checked~div.sk-toggleable__content {max-height: 200px;max-width: 100%;overflow: auto;}#sk-container-id-2 input.sk-toggleable__control:checked~label.sk-toggleable__label-arrow:before {content: \"▾\";}#sk-container-id-2 div.sk-estimator input.sk-toggleable__control:checked~label.sk-toggleable__label {background-color: #d4ebff;}#sk-container-id-2 div.sk-label input.sk-toggleable__control:checked~label.sk-toggleable__label {background-color: #d4ebff;}#sk-container-id-2 input.sk-hidden--visually {border: 0;clip: rect(1px 1px 1px 1px);clip: rect(1px, 1px, 1px, 1px);height: 1px;margin: -1px;overflow: hidden;padding: 0;position: absolute;width: 1px;}#sk-container-id-2 div.sk-estimator {font-family: monospace;background-color: #f0f8ff;border: 1px dotted black;border-radius: 0.25em;box-sizing: border-box;margin-bottom: 0.5em;}#sk-container-id-2 div.sk-estimator:hover {background-color: #d4ebff;}#sk-container-id-2 div.sk-parallel-item::after {content: \"\";width: 100%;border-bottom: 1px solid gray;flex-grow: 1;}#sk-container-id-2 div.sk-label:hover label.sk-toggleable__label {background-color: #d4ebff;}#sk-container-id-2 div.sk-serial::before {content: \"\";position: absolute;border-left: 1px solid gray;box-sizing: border-box;top: 0;bottom: 0;left: 50%;z-index: 0;}#sk-container-id-2 div.sk-serial {display: flex;flex-direction: column;align-items: center;background-color: white;padding-right: 0.2em;padding-left: 0.2em;position: relative;}#sk-container-id-2 div.sk-item {position: relative;z-index: 1;}#sk-container-id-2 div.sk-parallel {display: flex;align-items: stretch;justify-content: center;background-color: white;position: relative;}#sk-container-id-2 div.sk-item::before, #sk-container-id-2 div.sk-parallel-item::before {content: \"\";position: absolute;border-left: 1px solid gray;box-sizing: border-box;top: 0;bottom: 0;left: 50%;z-index: -1;}#sk-container-id-2 div.sk-parallel-item {display: flex;flex-direction: column;z-index: 1;position: relative;background-color: white;}#sk-container-id-2 div.sk-parallel-item:first-child::after {align-self: flex-end;width: 50%;}#sk-container-id-2 div.sk-parallel-item:last-child::after {align-self: flex-start;width: 50%;}#sk-container-id-2 div.sk-parallel-item:only-child::after {width: 0;}#sk-container-id-2 div.sk-dashed-wrapped {border: 1px dashed gray;margin: 0 0.4em 0.5em 0.4em;box-sizing: border-box;padding-bottom: 0.4em;background-color: white;}#sk-container-id-2 div.sk-label label {font-family: monospace;font-weight: bold;display: inline-block;line-height: 1.2em;}#sk-container-id-2 div.sk-label-container {text-align: center;}#sk-container-id-2 div.sk-container {/* jupyter's `normalize.less` sets `[hidden] { display: none; }` but bootstrap.min.css set `[hidden] { display: none !important; }` so we also need the `!important` here to be able to override the default hidden behavior on the sphinx rendered scikit-learn.org. See: https://github.com/scikit-learn/scikit-learn/issues/21755 */display: inline-block !important;position: relative;}#sk-container-id-2 div.sk-text-repr-fallback {display: none;}</style><div id=\"sk-container-id-2\" class=\"sk-top-container\"><div class=\"sk-text-repr-fallback\"><pre>SVC(C=0.001, class_weight=&#x27;balanced&#x27;, kernel=&#x27;linear&#x27;, probability=True,\n",
       "    random_state=42)</pre><b>In a Jupyter environment, please rerun this cell to show the HTML representation or trust the notebook. <br />On GitHub, the HTML representation is unable to render, please try loading this page with nbviewer.org.</b></div><div class=\"sk-container\" hidden><div class=\"sk-item\"><div class=\"sk-estimator sk-toggleable\"><input class=\"sk-toggleable__control sk-hidden--visually\" id=\"sk-estimator-id-2\" type=\"checkbox\" checked><label for=\"sk-estimator-id-2\" class=\"sk-toggleable__label sk-toggleable__label-arrow\">SVC</label><div class=\"sk-toggleable__content\"><pre>SVC(C=0.001, class_weight=&#x27;balanced&#x27;, kernel=&#x27;linear&#x27;, probability=True,\n",
       "    random_state=42)</pre></div></div></div></div></div>"
      ],
      "text/plain": [
       "SVC(C=0.001, class_weight='balanced', kernel='linear', probability=True,\n",
       "    random_state=42)"
      ]
     },
     "execution_count": 30,
     "metadata": {},
     "output_type": "execute_result"
    }
   ],
   "source": [
    "# Training the SVM model\n",
    "svm_model.fit(X_train_scaled, y_train_upsampled)\n"
   ]
  },
  {
   "cell_type": "code",
   "execution_count": 31,
   "id": "b1b701d7-2e63-4f91-a29a-c83f531992ea",
   "metadata": {},
   "outputs": [],
   "source": [
    "# Make predictions\n",
    "y_pred = svm_model.predict(X_test_scaled)\n",
    "y_pred_proba = svm_model.predict_proba(X_test_scaled)[:, 1]"
   ]
  },
  {
   "cell_type": "code",
   "execution_count": 32,
   "id": "1474a3ee-5f6c-4150-9373-c2583ddc6ffd",
   "metadata": {},
   "outputs": [
    {
     "name": "stdout",
     "output_type": "stream",
     "text": [
      "Confusion Matrix:\n",
      "[[56362   502]\n",
      " [   11    87]]\n"
     ]
    }
   ],
   "source": [
    "# Confusion matix\n",
    "print(\"Confusion Matrix:\")\n",
    "print(confusion_matrix(y_test, y_pred))"
   ]
  },
  {
   "cell_type": "code",
   "execution_count": 33,
   "id": "50ffc643-9e10-4abd-89f4-1e304c95b94d",
   "metadata": {},
   "outputs": [
    {
     "name": "stdout",
     "output_type": "stream",
     "text": [
      "\n",
      "Classification Report:\n",
      "              precision    recall  f1-score   support\n",
      "\n",
      "           0       1.00      0.99      1.00     56864\n",
      "           1       0.15      0.89      0.25        98\n",
      "\n",
      "    accuracy                           0.99     56962\n",
      "   macro avg       0.57      0.94      0.62     56962\n",
      "weighted avg       1.00      0.99      0.99     56962\n",
      "\n"
     ]
    }
   ],
   "source": [
    "#Other parameters\n",
    "\n",
    "print(\"\\nClassification Report:\")\n",
    "print(classification_report(y_test, y_pred))\n"
   ]
  },
  {
   "cell_type": "markdown",
   "id": "762233d7-467f-4ad4-9952-a98b32f0f27f",
   "metadata": {},
   "source": [
    "**The F1-score obtained for this model is 0.25, which is very low. Though the recall is high, the precision (correctly predicted frauds to total predicted frauds) is very low. Next we try a polynomial kernel, to see if it improves the metrics.**"
   ]
  },
  {
   "cell_type": "markdown",
   "id": "c82d1e29-aa69-47fc-92f1-e6abfcbdda9e",
   "metadata": {},
   "source": [
    "**SVM model with the polynomial kernel.**"
   ]
  },
  {
   "cell_type": "code",
   "execution_count": 34,
   "id": "c031f287-7f0e-4757-bda2-da7ec65b979e",
   "metadata": {},
   "outputs": [
    {
     "name": "stdout",
     "output_type": "stream",
     "text": [
      "Confusion Matrix:\n",
      "[[56788    76]\n",
      " [   15    83]]\n",
      "\n",
      "Classification Report:\n",
      "              precision    recall  f1-score   support\n",
      "\n",
      "           0       1.00      1.00      1.00     56864\n",
      "           1       0.52      0.85      0.65        98\n",
      "\n",
      "    accuracy                           1.00     56962\n",
      "   macro avg       0.76      0.92      0.82     56962\n",
      "weighted avg       1.00      1.00      1.00     56962\n",
      "\n",
      "\n",
      "AUC-ROC Score: 0.96\n"
     ]
    },
    {
     "data": {
      "text/plain": [
       "<sklearn.metrics._plot.roc_curve.RocCurveDisplay at 0x18e680b9510>"
      ]
     },
     "execution_count": 34,
     "metadata": {},
     "output_type": "execute_result"
    },
    {
     "data": {
      "image/png": "[encoded data removed]",
      "text/plain": [
       "<Figure size 640x480 with 1 Axes>"
      ]
     },
     "metadata": {},
     "output_type": "display_data"
    }
   ],
   "source": [
    "# Import necessary libraries\n",
    "from sklearn.svm import SVC\n",
    "from sklearn.metrics import classification_report, confusion_matrix, roc_auc_score, RocCurveDisplay\n",
    "\n",
    "# Initialize the SVM model with class weight balanced\n",
    "svm_model = SVC(kernel='poly', class_weight='balanced', C=0.01, random_state=42, probability=True)\n",
    "\n",
    "# Train the SVM model\n",
    "svm_model.fit(X_train_scaled, y_train_upsampled)\n",
    "\n",
    "# Make predictions\n",
    "y_pred = svm_model.predict(X_test_scaled)\n",
    "y_pred_proba = svm_model.predict_proba(X_test_scaled)[:, 1]\n",
    "\n",
    "# Evaluate the model\n",
    "print(\"Confusion Matrix:\")\n",
    "print(confusion_matrix(y_test, y_pred))\n",
    "print(\"\\nClassification Report:\")\n",
    "print(classification_report(y_test, y_pred))\n",
    "\n",
    "# Calculate and display the AUC-ROC\n",
    "roc_auc = roc_auc_score(y_test, y_pred_proba)\n",
    "print(f\"\\nAUC-ROC Score: {roc_auc:.2f}\")\n",
    "\n",
    "# Plot the ROC Curve\n",
    "RocCurveDisplay.from_estimator(svm_model, X_test_scaled, y_test)\n"
   ]
  },
  {
   "cell_type": "markdown",
   "id": "e103693a-2a73-4c27-9b65-4bfed5701e9b",
   "metadata": {},
   "source": [
    "**Though there is a significant improvement in the F1-score when using a polynomial kernel, it is still lower as compared to the Logistic Regression model. Distance-based models are not ideal when the data is highly imbalanced. Next we try Random Forest model, which is a tree based model.**"
   ]
  },
  {
   "cell_type": "markdown",
   "id": "e2707f9a-be79-4f5c-a4df-4c58efc30336",
   "metadata": {},
   "source": [
    "## Random Forest"
   ]
  },
  {
   "cell_type": "markdown",
   "id": "8f95abb9-ab91-4e42-802a-8b937ff9e971",
   "metadata": {},
   "source": [
    "**The next model we implement for the project is the <u>Random Forest Model</u>. Random Forest is a tree-based model which performs better than the traditional Machine Learning models like Logistic Regression. This is because its structure and inherent properties make it robust and effective for handling the challenges posed by class imbalance. Random Forest is an ensemble learning technique combining several indivdual Decision Trees. Random Forest aggregates predictions from all trees through majority voting (classification). Since each tree is trained on a slightly different subset, the model benefits from diverse perspectives, helping it generalize well even for the minority class.**"
   ]
  },
  {
   "cell_type": "markdown",
   "id": "1cadb8c7-d1e9-42ff-86ee-6095d3bee99a",
   "metadata": {},
   "source": [
    "**We first start with initialising the random forest model and fitting it on the raw, untreated data to see how the model performs.**"
   ]
  },
  {
   "cell_type": "markdown",
   "id": "8d099588-3dc6-4d5c-bfd7-716347e97a6c",
   "metadata": {},
   "source": [
    "**We get a perfect classification on the training set, across all evaluation parameters. However, it is  not necessarily an indication that the model is performing perfectly. Only the test metrics can be considered as the evaluating parameter to judge the performance of the models.**"
   ]
  },
  {
   "cell_type": "code",
   "execution_count": 35,
   "id": "103e6128-d1da-4120-9468-f91c580a4552",
   "metadata": {},
   "outputs": [
    {
     "name": "stdout",
     "output_type": "stream",
     "text": [
      "Training Accuracy Score: 1.0\n",
      "Training Confusion Matrix:\n",
      " [[113725      0]\n",
      " [     0  22745]]\n",
      "Training Classification Report:\n",
      "               precision    recall  f1-score   support\n",
      "\n",
      "           0       1.00      1.00      1.00    113725\n",
      "           1       1.00      1.00      1.00     22745\n",
      "\n",
      "    accuracy                           1.00    136470\n",
      "   macro avg       1.00      1.00      1.00    136470\n",
      "weighted avg       1.00      1.00      1.00    136470\n",
      "\n",
      "Test Accuracy Score: 0.9993328885923949\n",
      "Test Confusion Matrix:\n",
      " [[56838    26]\n",
      " [   12    86]]\n",
      "Test Classification Report:\n",
      "               precision    recall  f1-score   support\n",
      "\n",
      "           0       1.00      1.00      1.00     56864\n",
      "           1       0.77      0.88      0.82        98\n",
      "\n",
      "    accuracy                           1.00     56962\n",
      "   macro avg       0.88      0.94      0.91     56962\n",
      "weighted avg       1.00      1.00      1.00     56962\n",
      "\n"
     ]
    }
   ],
   "source": [
    "\n",
    "from sklearn.ensemble import RandomForestClassifier\n",
    "from sklearn.metrics import classification_report, confusion_matrix, accuracy_score\n",
    "#Random Forest initialisation and fitting\n",
    "rf_model = RandomForestClassifier(random_state=42)\n",
    "rf_model.fit(X_train_upsampled, y_train_upsampled)\n",
    "\n",
    "y_train_pred = rf_model.predict(X_train_upsampled)\n",
    "y_test_pred = rf_model.predict(X_test)\n",
    "\n",
    "print(\"Training Accuracy Score:\", accuracy_score(y_train_upsampled, y_train_pred))\n",
    "print(\"Training Confusion Matrix:\\n\", confusion_matrix(y_train_upsampled, y_train_pred))\n",
    "print(\"Training Classification Report:\\n\", classification_report(y_train_upsampled, y_train_pred))\n",
    "\n",
    "print(\"Test Accuracy Score:\", accuracy_score(y_test, y_test_pred))\n",
    "print(\"Test Confusion Matrix:\\n\", confusion_matrix(y_test, y_test_pred))\n",
    "print(\"Test Classification Report:\\n\", classification_report(y_test, y_test_pred))\n",
    "\n",
    "#control max-depth\n",
    "#col_sample_bytree-- for train overfitting\n",
    "#child nodes number- parameter"
   ]
  },
  {
   "cell_type": "markdown",
   "id": "8408d738-8478-4ca7-b385-8776b82e82d0",
   "metadata": {},
   "source": [
    "**The metrics obtained in this model are far better than SVM. Random Forest seems to be working much better as compared to SVM. To test different parameters for this model, to see if we can get better metrics, we can perform hyperparameter tuning. The next cell performs randomized search for 15 iterations with 2 cross-validation folds. The F1-score obtained is 0.82**"
   ]
  },
  {
   "cell_type": "code",
   "execution_count": 36,
   "id": "842bbd98-712d-4ab0-85d3-b8b62cbc1b0d",
   "metadata": {},
   "outputs": [
    {
     "name": "stdout",
     "output_type": "stream",
     "text": [
      "Fitting 2 folds for each of 15 candidates, totalling 30 fits\n",
      "Best Parameters: {'bootstrap': False, 'max_depth': 30, 'max_features': 'auto', 'min_samples_leaf': 2, 'min_samples_split': 8, 'n_estimators': 152}\n"
     ]
    }
   ],
   "source": [
    "from sklearn.model_selection import RandomizedSearchCV\n",
    "from sklearn.ensemble import RandomForestClassifier\n",
    "from scipy.stats import randint\n",
    "\n",
    "rf = RandomForestClassifier(random_state=42)\n",
    "\n",
    "#defining the dictionary of the parameters across which the Randomized Search will take place.\n",
    "param_dist = {\n",
    "    'n_estimators': randint(100, 500),  \n",
    "    'max_depth': randint(10, 50),      \n",
    "    'min_samples_split': randint(2, 10),  \n",
    "    'min_samples_leaf': randint(1, 10),   \n",
    "    'max_features': ['auto', 'sqrt', 'log2'], \n",
    "    'bootstrap': [True, False]\n",
    "}\n",
    "\n",
    "#Defining the parameters of the search and fitting the model.\n",
    "random_search = RandomizedSearchCV(\n",
    "    rf, param_distributions=param_dist, n_iter=15, cv=2, \n",
    "    n_jobs=-1, random_state=42, verbose=10, scoring='accuracy' \n",
    ")\n",
    "\n",
    "random_search.fit(X_train_upsampled, y_train_upsampled)\n",
    "\n",
    "#Printing out the best performing parameters.\n",
    "print(\"Best Parameters:\", random_search.best_params_)\n"
   ]
  },
  {
   "cell_type": "code",
   "execution_count": 37,
   "id": "c055551c-cdd2-4af5-bea6-cffff27b7aae",
   "metadata": {},
   "outputs": [
    {
     "name": "stdout",
     "output_type": "stream",
     "text": [
      "Best Parameters: {'bootstrap': False, 'max_depth': 30, 'max_features': 'auto', 'min_samples_leaf': 2, 'min_samples_split': 8, 'n_estimators': 152}\n",
      "Training Metrics:\n",
      "Accuracy: 1.0\n",
      "[[113725      0]\n",
      " [     0  22745]]\n",
      "              precision    recall  f1-score   support\n",
      "\n",
      "           0       1.00      1.00      1.00    113725\n",
      "           1       1.00      1.00      1.00     22745\n",
      "\n",
      "    accuracy                           1.00    136470\n",
      "   macro avg       1.00      1.00      1.00    136470\n",
      "weighted avg       1.00      1.00      1.00    136470\n",
      "\n",
      "Test Metrics:\n",
      "Accuracy: 0.999403110845827\n",
      "[[56842    22]\n",
      " [   12    86]]\n",
      "              precision    recall  f1-score   support\n",
      "\n",
      "           0       1.00      1.00      1.00     56864\n",
      "           1       0.80      0.88      0.83        98\n",
      "\n",
      "    accuracy                           1.00     56962\n",
      "   macro avg       0.90      0.94      0.92     56962\n",
      "weighted avg       1.00      1.00      1.00     56962\n",
      "\n"
     ]
    }
   ],
   "source": [
    "# Getting the best parameters\n",
    "print(f\"Best Parameters: {random_search.best_params_}\")\n",
    "\n",
    "# Getting the best model and evaluating on the train and test set\n",
    "best_model = random_search.best_estimator_\n",
    "\n",
    "# Training Metrics\n",
    "y_train_pred = best_model.predict(X_train_upsampled)\n",
    "print(\"Training Metrics:\")\n",
    "print(f\"Accuracy: {accuracy_score(y_train_upsampled, y_train_pred)}\")\n",
    "print(confusion_matrix(y_train_upsampled, y_train_pred))\n",
    "print(classification_report(y_train_upsampled, y_train_pred))\n",
    "\n",
    "# Test Metrics\n",
    "y_test_pred = best_model.predict(X_test)\n",
    "print(\"Test Metrics:\")\n",
    "print(f\"Accuracy: {accuracy_score(y_test, y_test_pred)}\")\n",
    "print(confusion_matrix(y_test, y_test_pred))\n",
    "print(classification_report(y_test, y_test_pred))"
   ]
  },
  {
   "cell_type": "markdown",
   "id": "0339ca50-0bb7-4484-a972-aa3ceb5d5f5b",
   "metadata": {},
   "source": [
    "**There is not a significant improvement in the F1-score observed after the hyperparameter tuning. It was 0.82 earlier, after Randomized Search, it increased to 0.83. To try and improve the F1-score further, we use the XGBoost model next.**"
   ]
  },
  {
   "cell_type": "markdown",
   "id": "fc594b43-ad88-496c-bc40-af6414573b25",
   "metadata": {},
   "source": [
    "## XGBoost"
   ]
  },
  {
   "cell_type": "markdown",
   "id": "789a1672-7c19-4e2d-baaf-d9c426e5dec7",
   "metadata": {},
   "source": [
    "**The final model used for this project is a tree based ensemble boosting model called XGBoost (eXtreme Gradient Boosting). XGBoost uses decision trees as its base models. XGBoost builds trees sequentially, where each tree attempts to correct the errors of the previous one. It minimizes a loss function by optimizing tree splits. Predictions from all trees are combined (summed) to make the final prediction. XGBoost builds trees iteratively by using the gradient of the loss function to improve predictions. The contribution of each tree is weighted based on its performance.**\n",
    "\n",
    "\n",
    "\n",
    " "
   ]
  },
  {
   "cell_type": "markdown",
   "id": "625532e2-c3ea-45bd-a857-1c82d79ee13c",
   "metadata": {},
   "source": [
    "**XGBoost, unlike the previously used models, is not a part of scikit-Learn, but is a part of it's own module called \"xgboost\". First XGBoost needs to be installed before it can be imported, as it is not pre-installed in most IDEs:**"
   ]
  },
  {
   "cell_type": "code",
   "execution_count": 38,
   "id": "5e7fdbdc-bd8c-423d-828e-0365b11a1851",
   "metadata": {
    "scrolled": true
   },
   "outputs": [],
   "source": [
    "#!pip install xgboost "
   ]
  },
  {
   "cell_type": "markdown",
   "id": "2abba4c5-e585-4b36-acfb-27ece66f593d",
   "metadata": {},
   "source": [
    "**We now use the XGBoost classifier to train and test our model. One of the advantages of XGBoost classifier is that it has a number of parameters which allow us to deal with highly imbalanced data, as is the case with this project.** "
   ]
  },
  {
   "cell_type": "markdown",
   "id": "c3c5d7e4-fbc9-4574-9b86-c1b7e798719a",
   "metadata": {},
   "source": [
    "**The most important of these is the scale_pos_weight parameter. The scale_pos_weight parameter in XGBoost is used to address class imbalance in classification problems, especially binary classification. It helps by adjusting the weight of positive class instances during the optimization of the loss function.This ensures the model doesn't become biased toward the majority class, which is common in imbalanced datasets such as this one. The weight for the positive class is increased based on the imbalance ratio. \"scale_pos_weight\" is defined as the ratio of number of non-fraudulent samples to the number of fraud samples. It also takes an \"objective\" parameter to define the type of loss function the algorithm will optimize during training. In this case the binary logistic function is used. The loss function penalizes misclassification of the minority class more heavily, which encourages the model to pay more attention to the minority class.**"
   ]
  },
  {
   "cell_type": "markdown",
   "id": "7342a3c4-8993-4d74-942a-a6a9618f9c02",
   "metadata": {},
   "source": [
    "**In the next few cells we use the XGBoost model to predict fraud:**"
   ]
  },
  {
   "cell_type": "code",
   "execution_count": 39,
   "id": "99c3fdd0-04be-4fb4-a879-c939b7181e16",
   "metadata": {},
   "outputs": [],
   "source": [
    "import xgboost as xgb\n",
    "#initialising the XGBoost classifier method \n",
    "xgb_clf = xgb.XGBClassifier(\n",
    "    objective='binary:logistic',\n",
    "    scale_pos_weight=len(y_train[y_train == 0]) / len(y_train[y_train == 1]),\n",
    "    n_estimators=100,\n",
    "    learning_rate=0.1,\n",
    "    max_depth=6,\n",
    "    random_state=42\n",
    ")\n"
   ]
  },
  {
   "cell_type": "code",
   "execution_count": 40,
   "id": "9fd46f77-3c0a-4ae9-8442-73c1d0d98a11",
   "metadata": {},
   "outputs": [],
   "source": [
    "# Train the model\n",
    "xgb_clf.fit(X_train, y_train)\n",
    "\n",
    "# Predict on the training set\n",
    "y_train_pred = xgb_clf.predict(X_train)"
   ]
  },
  {
   "cell_type": "code",
   "execution_count": 41,
   "id": "f0e33be6-e043-4734-a228-29cd6a235c00",
   "metadata": {},
   "outputs": [
    {
     "name": "stdout",
     "output_type": "stream",
     "text": [
      "Training Accuracy Score: 0.9997937194145142\n",
      "\n",
      "Training Confusion Matrix:\n",
      " [[227404     47]\n",
      " [     0    394]]\n",
      "\n",
      "Training Classification Report:\n",
      "               precision    recall  f1-score   support\n",
      "\n",
      "           0       1.00      1.00      1.00    227451\n",
      "           1       0.89      1.00      0.94       394\n",
      "\n",
      "    accuracy                           1.00    227845\n",
      "   macro avg       0.95      1.00      0.97    227845\n",
      "weighted avg       1.00      1.00      1.00    227845\n",
      "\n"
     ]
    }
   ],
   "source": [
    "# Evaluate on training data\n",
    "from sklearn.metrics import classification_report, confusion_matrix, accuracy_score\n",
    "\n",
    "train_accuracy = accuracy_score(y_train, y_train_pred)\n",
    "train_conf_matrix = confusion_matrix(y_train, y_train_pred)\n",
    "train_class_report = classification_report(y_train, y_train_pred)\n",
    "\n",
    "print(\"Training Accuracy Score:\", train_accuracy)\n",
    "print(\"\\nTraining Confusion Matrix:\\n\", train_conf_matrix)\n",
    "print(\"\\nTraining Classification Report:\\n\", train_class_report)"
   ]
  },
  {
   "cell_type": "code",
   "execution_count": 42,
   "id": "08e61152-7839-4414-acf5-eed92d6a16e3",
   "metadata": {},
   "outputs": [
    {
     "name": "stdout",
     "output_type": "stream",
     "text": [
      "\n",
      "Test Accuracy Score: 0.9993153330290369\n",
      "\n",
      "Test Confusion Matrix:\n",
      " [[56841    23]\n",
      " [   16    82]]\n",
      "\n",
      "Test Classification Report:\n",
      "               precision    recall  f1-score   support\n",
      "\n",
      "           0       1.00      1.00      1.00     56864\n",
      "           1       0.78      0.84      0.81        98\n",
      "\n",
      "    accuracy                           1.00     56962\n",
      "   macro avg       0.89      0.92      0.90     56962\n",
      "weighted avg       1.00      1.00      1.00     56962\n",
      "\n"
     ]
    }
   ],
   "source": [
    "# Predicting on the test set\n",
    "y_test_pred = xgb_clf.predict(X_test)\n",
    "\n",
    "# Evaluating on test data\n",
    "test_accuracy = accuracy_score(y_test, y_test_pred)\n",
    "test_conf_matrix = confusion_matrix(y_test, y_test_pred)\n",
    "test_class_report = classification_report(y_test, y_test_pred)\n",
    "\n",
    "print(\"\\nTest Accuracy Score:\", test_accuracy)\n",
    "print(\"\\nTest Confusion Matrix:\\n\", test_conf_matrix)\n",
    "print(\"\\nTest Classification Report:\\n\", test_class_report)"
   ]
  },
  {
   "cell_type": "markdown",
   "id": "3628e758-a7d4-4050-a31c-7871e31635f3",
   "metadata": {},
   "source": [
    "**The F1-score of 0.81 is along similar lines as the Random Forest. This score however can be improved if we try to tune the hyperparameters of the model. For hyperparameter tuning we use GridSearchCV. Grid Search allows us to specify a number of different hyperparameters and train our model on them. After training the model on the different hyperparameters, we can get the set of parameters which gives us the best possible performance based on a specified metric (in this case F1-score).**"
   ]
  },
  {
   "cell_type": "markdown",
   "id": "d56a8c7c-98a4-40bf-8813-120fbfffdccb",
   "metadata": {},
   "source": [
    "**The next cell performs the GridSearch for the specified parameters in the param_grid dictionary.**"
   ]
  },
  {
   "cell_type": "code",
   "execution_count": 43,
   "id": "9493cda2-6e41-441a-984f-9bbb8c77454e",
   "metadata": {},
   "outputs": [
    {
     "name": "stdout",
     "output_type": "stream",
     "text": [
      "Fitting 3 folds for each of 16 candidates, totalling 48 fits\n"
     ]
    },
    {
     "data": {
      "text/html": [
       "<style>#sk-container-id-3 {color: black;background-color: white;}#sk-container-id-3 pre{padding: 0;}#sk-container-id-3 div.sk-toggleable {background-color: white;}#sk-container-id-3 label.sk-toggleable__label {cursor: pointer;display: block;width: 100%;margin-bottom: 0;padding: 0.3em;box-sizing: border-box;text-align: center;}#sk-container-id-3 label.sk-toggleable__label-arrow:before {content: \"▸\";float: left;margin-right: 0.25em;color: #696969;}#sk-container-id-3 label.sk-toggleable__label-arrow:hover:before {color: black;}#sk-container-id-3 div.sk-estimator:hover label.sk-toggleable__label-arrow:before {color: black;}#sk-container-id-3 div.sk-toggleable__content {max-height: 0;max-width: 0;overflow: hidden;text-align: left;background-color: #f0f8ff;}#sk-container-id-3 div.sk-toggleable__content pre {margin: 0.2em;color: black;border-radius: 0.25em;background-color: #f0f8ff;}#sk-container-id-3 input.sk-toggleable__control:checked~div.sk-toggleable__content {max-height: 200px;max-width: 100%;overflow: auto;}#sk-container-id-3 input.sk-toggleable__control:checked~label.sk-toggleable__label-arrow:before {content: \"▾\";}#sk-container-id-3 div.sk-estimator input.sk-toggleable__control:checked~label.sk-toggleable__label {background-color: #d4ebff;}#sk-container-id-3 div.sk-label input.sk-toggleable__control:checked~label.sk-toggleable__label {background-color: #d4ebff;}#sk-container-id-3 input.sk-hidden--visually {border: 0;clip: rect(1px 1px 1px 1px);clip: rect(1px, 1px, 1px, 1px);height: 1px;margin: -1px;overflow: hidden;padding: 0;position: absolute;width: 1px;}#sk-container-id-3 div.sk-estimator {font-family: monospace;background-color: #f0f8ff;border: 1px dotted black;border-radius: 0.25em;box-sizing: border-box;margin-bottom: 0.5em;}#sk-container-id-3 div.sk-estimator:hover {background-color: #d4ebff;}#sk-container-id-3 div.sk-parallel-item::after {content: \"\";width: 100%;border-bottom: 1px solid gray;flex-grow: 1;}#sk-container-id-3 div.sk-label:hover label.sk-toggleable__label {background-color: #d4ebff;}#sk-container-id-3 div.sk-serial::before {content: \"\";position: absolute;border-left: 1px solid gray;box-sizing: border-box;top: 0;bottom: 0;left: 50%;z-index: 0;}#sk-container-id-3 div.sk-serial {display: flex;flex-direction: column;align-items: center;background-color: white;padding-right: 0.2em;padding-left: 0.2em;position: relative;}#sk-container-id-3 div.sk-item {position: relative;z-index: 1;}#sk-container-id-3 div.sk-parallel {display: flex;align-items: stretch;justify-content: center;background-color: white;position: relative;}#sk-container-id-3 div.sk-item::before, #sk-container-id-3 div.sk-parallel-item::before {content: \"\";position: absolute;border-left: 1px solid gray;box-sizing: border-box;top: 0;bottom: 0;left: 50%;z-index: -1;}#sk-container-id-3 div.sk-parallel-item {display: flex;flex-direction: column;z-index: 1;position: relative;background-color: white;}#sk-container-id-3 div.sk-parallel-item:first-child::after {align-self: flex-end;width: 50%;}#sk-container-id-3 div.sk-parallel-item:last-child::after {align-self: flex-start;width: 50%;}#sk-container-id-3 div.sk-parallel-item:only-child::after {width: 0;}#sk-container-id-3 div.sk-dashed-wrapped {border: 1px dashed gray;margin: 0 0.4em 0.5em 0.4em;box-sizing: border-box;padding-bottom: 0.4em;background-color: white;}#sk-container-id-3 div.sk-label label {font-family: monospace;font-weight: bold;display: inline-block;line-height: 1.2em;}#sk-container-id-3 div.sk-label-container {text-align: center;}#sk-container-id-3 div.sk-container {/* jupyter's `normalize.less` sets `[hidden] { display: none; }` but bootstrap.min.css set `[hidden] { display: none !important; }` so we also need the `!important` here to be able to override the default hidden behavior on the sphinx rendered scikit-learn.org. See: https://github.com/scikit-learn/scikit-learn/issues/21755 */display: inline-block !important;position: relative;}#sk-container-id-3 div.sk-text-repr-fallback {display: none;}</style><div id=\"sk-container-id-3\" class=\"sk-top-container\"><div class=\"sk-text-repr-fallback\"><pre>GridSearchCV(cv=3,\n",
       "             estimator=XGBClassifier(base_score=None, booster=None,\n",
       "                                     callbacks=None, colsample_bylevel=None,\n",
       "                                     colsample_bynode=None,\n",
       "                                     colsample_bytree=None, device=None,\n",
       "                                     early_stopping_rounds=None,\n",
       "                                     enable_categorical=False, eval_metric=None,\n",
       "                                     feature_types=None, gamma=None,\n",
       "                                     grow_policy=None, importance_type=None,\n",
       "                                     interaction_constraints=None,\n",
       "                                     learning_rate=None,...\n",
       "                                     max_leaves=None, min_child_weight=None,\n",
       "                                     missing=nan, monotone_constraints=None,\n",
       "                                     multi_strategy=None, n_estimators=None,\n",
       "                                     n_jobs=None, num_parallel_tree=None,\n",
       "                                     random_state=None, ...),\n",
       "             n_jobs=-1,\n",
       "             param_grid={&#x27;colsample_bytree&#x27;: [0.8], &#x27;learning_rate&#x27;: [0.1, 0.2],\n",
       "                         &#x27;max_depth&#x27;: [3, 5], &#x27;n_estimators&#x27;: [100, 200],\n",
       "                         &#x27;scale_pos_weight&#x27;: [289.14340101522845, 1],\n",
       "                         &#x27;subsample&#x27;: [0.8]},\n",
       "             scoring=&#x27;f1&#x27;, verbose=3)</pre><b>In a Jupyter environment, please rerun this cell to show the HTML representation or trust the notebook. <br />On GitHub, the HTML representation is unable to render, please try loading this page with nbviewer.org.</b></div><div class=\"sk-container\" hidden><div class=\"sk-item sk-dashed-wrapped\"><div class=\"sk-label-container\"><div class=\"sk-label sk-toggleable\"><input class=\"sk-toggleable__control sk-hidden--visually\" id=\"sk-estimator-id-3\" type=\"checkbox\" ><label for=\"sk-estimator-id-3\" class=\"sk-toggleable__label sk-toggleable__label-arrow\">GridSearchCV</label><div class=\"sk-toggleable__content\"><pre>GridSearchCV(cv=3,\n",
       "             estimator=XGBClassifier(base_score=None, booster=None,\n",
       "                                     callbacks=None, colsample_bylevel=None,\n",
       "                                     colsample_bynode=None,\n",
       "                                     colsample_bytree=None, device=None,\n",
       "                                     early_stopping_rounds=None,\n",
       "                                     enable_categorical=False, eval_metric=None,\n",
       "                                     feature_types=None, gamma=None,\n",
       "                                     grow_policy=None, importance_type=None,\n",
       "                                     interaction_constraints=None,\n",
       "                                     learning_rate=None,...\n",
       "                                     max_leaves=None, min_child_weight=None,\n",
       "                                     missing=nan, monotone_constraints=None,\n",
       "                                     multi_strategy=None, n_estimators=None,\n",
       "                                     n_jobs=None, num_parallel_tree=None,\n",
       "                                     random_state=None, ...),\n",
       "             n_jobs=-1,\n",
       "             param_grid={&#x27;colsample_bytree&#x27;: [0.8], &#x27;learning_rate&#x27;: [0.1, 0.2],\n",
       "                         &#x27;max_depth&#x27;: [3, 5], &#x27;n_estimators&#x27;: [100, 200],\n",
       "                         &#x27;scale_pos_weight&#x27;: [289.14340101522845, 1],\n",
       "                         &#x27;subsample&#x27;: [0.8]},\n",
       "             scoring=&#x27;f1&#x27;, verbose=3)</pre></div></div></div><div class=\"sk-parallel\"><div class=\"sk-parallel-item\"><div class=\"sk-item\"><div class=\"sk-label-container\"><div class=\"sk-label sk-toggleable\"><input class=\"sk-toggleable__control sk-hidden--visually\" id=\"sk-estimator-id-4\" type=\"checkbox\" ><label for=\"sk-estimator-id-4\" class=\"sk-toggleable__label sk-toggleable__label-arrow\">estimator: XGBClassifier</label><div class=\"sk-toggleable__content\"><pre>XGBClassifier(base_score=None, booster=None, callbacks=None,\n",
       "              colsample_bylevel=None, colsample_bynode=None,\n",
       "              colsample_bytree=None, device=None, early_stopping_rounds=None,\n",
       "              enable_categorical=False, eval_metric=None, feature_types=None,\n",
       "              gamma=None, grow_policy=None, importance_type=None,\n",
       "              interaction_constraints=None, learning_rate=None, max_bin=None,\n",
       "              max_cat_threshold=None, max_cat_to_onehot=None,\n",
       "              max_delta_step=None, max_depth=None, max_leaves=None,\n",
       "              min_child_weight=None, missing=nan, monotone_constraints=None,\n",
       "              multi_strategy=None, n_estimators=None, n_jobs=None,\n",
       "              num_parallel_tree=None, random_state=None, ...)</pre></div></div></div><div class=\"sk-serial\"><div class=\"sk-item\"><div class=\"sk-estimator sk-toggleable\"><input class=\"sk-toggleable__control sk-hidden--visually\" id=\"sk-estimator-id-5\" type=\"checkbox\" ><label for=\"sk-estimator-id-5\" class=\"sk-toggleable__label sk-toggleable__label-arrow\">XGBClassifier</label><div class=\"sk-toggleable__content\"><pre>XGBClassifier(base_score=None, booster=None, callbacks=None,\n",
       "              colsample_bylevel=None, colsample_bynode=None,\n",
       "              colsample_bytree=None, device=None, early_stopping_rounds=None,\n",
       "              enable_categorical=False, eval_metric=None, feature_types=None,\n",
       "              gamma=None, grow_policy=None, importance_type=None,\n",
       "              interaction_constraints=None, learning_rate=None, max_bin=None,\n",
       "              max_cat_threshold=None, max_cat_to_onehot=None,\n",
       "              max_delta_step=None, max_depth=None, max_leaves=None,\n",
       "              min_child_weight=None, missing=nan, monotone_constraints=None,\n",
       "              multi_strategy=None, n_estimators=None, n_jobs=None,\n",
       "              num_parallel_tree=None, random_state=None, ...)</pre></div></div></div></div></div></div></div></div></div></div>"
      ],
      "text/plain": [
       "GridSearchCV(cv=3,\n",
       "             estimator=XGBClassifier(base_score=None, booster=None,\n",
       "                                     callbacks=None, colsample_bylevel=None,\n",
       "                                     colsample_bynode=None,\n",
       "                                     colsample_bytree=None, device=None,\n",
       "                                     early_stopping_rounds=None,\n",
       "                                     enable_categorical=False, eval_metric=None,\n",
       "                                     feature_types=None, gamma=None,\n",
       "                                     grow_policy=None, importance_type=None,\n",
       "                                     interaction_constraints=None,\n",
       "                                     learning_rate=None,...\n",
       "                                     max_leaves=None, min_child_weight=None,\n",
       "                                     missing=nan, monotone_constraints=None,\n",
       "                                     multi_strategy=None, n_estimators=None,\n",
       "                                     n_jobs=None, num_parallel_tree=None,\n",
       "                                     random_state=None, ...),\n",
       "             n_jobs=-1,\n",
       "             param_grid={'colsample_bytree': [0.8], 'learning_rate': [0.1, 0.2],\n",
       "                         'max_depth': [3, 5], 'n_estimators': [100, 200],\n",
       "                         'scale_pos_weight': [289.14340101522845, 1],\n",
       "                         'subsample': [0.8]},\n",
       "             scoring='f1', verbose=3)"
      ]
     },
     "execution_count": 43,
     "metadata": {},
     "output_type": "execute_result"
    }
   ],
   "source": [
    "from sklearn.model_selection import GridSearchCV\n",
    "import numpy as np\n",
    "from xgboost import XGBClassifier\n",
    "\n",
    "scale_pos_weight = len(y_train) / (2.0 * np.sum(y_train == 1))\n",
    "\n",
    "param_grid = {\n",
    "    'n_estimators': [100, 200],  \n",
    "    'learning_rate': [0.1, 0.2],  \n",
    "    'max_depth': [3, 5],  \n",
    "    'subsample': [0.8],  \n",
    "    'colsample_bytree': [0.8], \n",
    "    'scale_pos_weight': [scale_pos_weight, 1]  \n",
    "}\n",
    "\n",
    "# Create the XGBoost model\n",
    "xgb_model = XGBClassifier()\n",
    "\n",
    "# Set up GridSearchCV with reduced fits (3-fold cross-validation)\n",
    "grid_search = GridSearchCV(estimator=xgb_model, param_grid=param_grid, \n",
    "                           scoring='f1', cv=3, verbose=3, n_jobs=-1)\n",
    "\n",
    "# Fit the grid search\n",
    "grid_search.fit(X_train, y_train)\n"
   ]
  },
  {
   "cell_type": "markdown",
   "id": "af813664-9175-4a6d-b062-2d237eabc73d",
   "metadata": {},
   "source": [
    "**After fitting the Grid Search, we can obtain the best performing parameters, as well as the evaluation metrics for them, as shown in the below cell.**"
   ]
  },
  {
   "cell_type": "code",
   "execution_count": 44,
   "id": "b40e3246-17f3-4778-9055-1ba55c921f47",
   "metadata": {},
   "outputs": [
    {
     "name": "stdout",
     "output_type": "stream",
     "text": [
      "Best Parameters: {'colsample_bytree': 0.8, 'learning_rate': 0.2, 'max_depth': 3, 'n_estimators': 200, 'scale_pos_weight': 1, 'subsample': 0.8}\n",
      "Training Metrics:\n",
      "Accuracy: 0.9999561105137265\n",
      "[[227451      0]\n",
      " [    10    384]]\n",
      "              precision    recall  f1-score   support\n",
      "\n",
      "           0       1.00      1.00      1.00    227451\n",
      "           1       1.00      0.97      0.99       394\n",
      "\n",
      "    accuracy                           1.00    227845\n",
      "   macro avg       1.00      0.99      0.99    227845\n",
      "weighted avg       1.00      1.00      1.00    227845\n",
      "\n",
      "Test Metrics:\n",
      "Accuracy: 0.9995962220427653\n",
      "[[56857     7]\n",
      " [   16    82]]\n",
      "              precision    recall  f1-score   support\n",
      "\n",
      "           0       1.00      1.00      1.00     56864\n",
      "           1       0.92      0.84      0.88        98\n",
      "\n",
      "    accuracy                           1.00     56962\n",
      "   macro avg       0.96      0.92      0.94     56962\n",
      "weighted avg       1.00      1.00      1.00     56962\n",
      "\n"
     ]
    }
   ],
   "source": [
    "\n",
    "# Getting the best parameters\n",
    "print(f\"Best Parameters: {grid_search.best_params_}\")\n",
    "\n",
    "# Getting the best model and evaluating on the train and test set\n",
    "best_model = grid_search.best_estimator_\n",
    "\n",
    "# Training Metrics\n",
    "y_train_pred = best_model.predict(X_train)\n",
    "print(\"Training Metrics:\")\n",
    "print(f\"Accuracy: {accuracy_score(y_train, y_train_pred)}\")\n",
    "print(confusion_matrix(y_train, y_train_pred))\n",
    "print(classification_report(y_train, y_train_pred))\n",
    "\n",
    "# Test Metrics\n",
    "y_test_pred = best_model.predict(X_test)\n",
    "print(\"Test Metrics:\")\n",
    "print(f\"Accuracy: {accuracy_score(y_test, y_test_pred)}\")\n",
    "print(confusion_matrix(y_test, y_test_pred))\n",
    "print(classification_report(y_test, y_test_pred))\n"
   ]
  },
  {
   "cell_type": "markdown",
   "id": "00bc890e-b53f-418b-98f3-3a85b6a757e2",
   "metadata": {},
   "source": [
    "**The best F1-score obtained using the metrics shown above by Grid Search was 0.88. It is better than the score obtained for the previous models**"
   ]
  },
  {
   "cell_type": "markdown",
   "id": "a7f4a74e-598a-4e32-9018-d5d02874cae9",
   "metadata": {},
   "source": [
    "**In order to test the model based on these parameters we can create an XGBoost model and specify these parameters:**"
   ]
  },
  {
   "cell_type": "code",
   "execution_count": 45,
   "id": "78959155-6656-4d09-8cf3-92d3fa37db78",
   "metadata": {},
   "outputs": [
    {
     "data": {
      "text/html": [
       "<style>#sk-container-id-4 {color: black;background-color: white;}#sk-container-id-4 pre{padding: 0;}#sk-container-id-4 div.sk-toggleable {background-color: white;}#sk-container-id-4 label.sk-toggleable__label {cursor: pointer;display: block;width: 100%;margin-bottom: 0;padding: 0.3em;box-sizing: border-box;text-align: center;}#sk-container-id-4 label.sk-toggleable__label-arrow:before {content: \"▸\";float: left;margin-right: 0.25em;color: #696969;}#sk-container-id-4 label.sk-toggleable__label-arrow:hover:before {color: black;}#sk-container-id-4 div.sk-estimator:hover label.sk-toggleable__label-arrow:before {color: black;}#sk-container-id-4 div.sk-toggleable__content {max-height: 0;max-width: 0;overflow: hidden;text-align: left;background-color: #f0f8ff;}#sk-container-id-4 div.sk-toggleable__content pre {margin: 0.2em;color: black;border-radius: 0.25em;background-color: #f0f8ff;}#sk-container-id-4 input.sk-toggleable__control:checked~div.sk-toggleable__content {max-height: 200px;max-width: 100%;overflow: auto;}#sk-container-id-4 input.sk-toggleable__control:checked~label.sk-toggleable__label-arrow:before {content: \"▾\";}#sk-container-id-4 div.sk-estimator input.sk-toggleable__control:checked~label.sk-toggleable__label {background-color: #d4ebff;}#sk-container-id-4 div.sk-label input.sk-toggleable__control:checked~label.sk-toggleable__label {background-color: #d4ebff;}#sk-container-id-4 input.sk-hidden--visually {border: 0;clip: rect(1px 1px 1px 1px);clip: rect(1px, 1px, 1px, 1px);height: 1px;margin: -1px;overflow: hidden;padding: 0;position: absolute;width: 1px;}#sk-container-id-4 div.sk-estimator {font-family: monospace;background-color: #f0f8ff;border: 1px dotted black;border-radius: 0.25em;box-sizing: border-box;margin-bottom: 0.5em;}#sk-container-id-4 div.sk-estimator:hover {background-color: #d4ebff;}#sk-container-id-4 div.sk-parallel-item::after {content: \"\";width: 100%;border-bottom: 1px solid gray;flex-grow: 1;}#sk-container-id-4 div.sk-label:hover label.sk-toggleable__label {background-color: #d4ebff;}#sk-container-id-4 div.sk-serial::before {content: \"\";position: absolute;border-left: 1px solid gray;box-sizing: border-box;top: 0;bottom: 0;left: 50%;z-index: 0;}#sk-container-id-4 div.sk-serial {display: flex;flex-direction: column;align-items: center;background-color: white;padding-right: 0.2em;padding-left: 0.2em;position: relative;}#sk-container-id-4 div.sk-item {position: relative;z-index: 1;}#sk-container-id-4 div.sk-parallel {display: flex;align-items: stretch;justify-content: center;background-color: white;position: relative;}#sk-container-id-4 div.sk-item::before, #sk-container-id-4 div.sk-parallel-item::before {content: \"\";position: absolute;border-left: 1px solid gray;box-sizing: border-box;top: 0;bottom: 0;left: 50%;z-index: -1;}#sk-container-id-4 div.sk-parallel-item {display: flex;flex-direction: column;z-index: 1;position: relative;background-color: white;}#sk-container-id-4 div.sk-parallel-item:first-child::after {align-self: flex-end;width: 50%;}#sk-container-id-4 div.sk-parallel-item:last-child::after {align-self: flex-start;width: 50%;}#sk-container-id-4 div.sk-parallel-item:only-child::after {width: 0;}#sk-container-id-4 div.sk-dashed-wrapped {border: 1px dashed gray;margin: 0 0.4em 0.5em 0.4em;box-sizing: border-box;padding-bottom: 0.4em;background-color: white;}#sk-container-id-4 div.sk-label label {font-family: monospace;font-weight: bold;display: inline-block;line-height: 1.2em;}#sk-container-id-4 div.sk-label-container {text-align: center;}#sk-container-id-4 div.sk-container {/* jupyter's `normalize.less` sets `[hidden] { display: none; }` but bootstrap.min.css set `[hidden] { display: none !important; }` so we also need the `!important` here to be able to override the default hidden behavior on the sphinx rendered scikit-learn.org. See: https://github.com/scikit-learn/scikit-learn/issues/21755 */display: inline-block !important;position: relative;}#sk-container-id-4 div.sk-text-repr-fallback {display: none;}</style><div id=\"sk-container-id-4\" class=\"sk-top-container\"><div class=\"sk-text-repr-fallback\"><pre>XGBClassifier(base_score=None, booster=None, callbacks=None,\n",
       "              colsample_bylevel=None, colsample_bynode=None,\n",
       "              colsample_bytree=0.8, device=None, early_stopping_rounds=None,\n",
       "              enable_categorical=False, eval_metric=&#x27;logloss&#x27;,\n",
       "              feature_types=None, gamma=None, grow_policy=None,\n",
       "              importance_type=None, interaction_constraints=None,\n",
       "              learning_rate=0.2, max_bin=None, max_cat_threshold=None,\n",
       "              max_cat_to_onehot=None, max_delta_step=None, max_depth=3,\n",
       "              max_leaves=None, min_child_weight=None, missing=nan,\n",
       "              monotone_constraints=None, multi_strategy=None, n_estimators=200,\n",
       "              n_jobs=None, num_parallel_tree=None, random_state=None, ...)</pre><b>In a Jupyter environment, please rerun this cell to show the HTML representation or trust the notebook. <br />On GitHub, the HTML representation is unable to render, please try loading this page with nbviewer.org.</b></div><div class=\"sk-container\" hidden><div class=\"sk-item\"><div class=\"sk-estimator sk-toggleable\"><input class=\"sk-toggleable__control sk-hidden--visually\" id=\"sk-estimator-id-6\" type=\"checkbox\" checked><label for=\"sk-estimator-id-6\" class=\"sk-toggleable__label sk-toggleable__label-arrow\">XGBClassifier</label><div class=\"sk-toggleable__content\"><pre>XGBClassifier(base_score=None, booster=None, callbacks=None,\n",
       "              colsample_bylevel=None, colsample_bynode=None,\n",
       "              colsample_bytree=0.8, device=None, early_stopping_rounds=None,\n",
       "              enable_categorical=False, eval_metric=&#x27;logloss&#x27;,\n",
       "              feature_types=None, gamma=None, grow_policy=None,\n",
       "              importance_type=None, interaction_constraints=None,\n",
       "              learning_rate=0.2, max_bin=None, max_cat_threshold=None,\n",
       "              max_cat_to_onehot=None, max_delta_step=None, max_depth=3,\n",
       "              max_leaves=None, min_child_weight=None, missing=nan,\n",
       "              monotone_constraints=None, multi_strategy=None, n_estimators=200,\n",
       "              n_jobs=None, num_parallel_tree=None, random_state=None, ...)</pre></div></div></div></div></div>"
      ],
      "text/plain": [
       "XGBClassifier(base_score=None, booster=None, callbacks=None,\n",
       "              colsample_bylevel=None, colsample_bynode=None,\n",
       "              colsample_bytree=0.8, device=None, early_stopping_rounds=None,\n",
       "              enable_categorical=False, eval_metric='logloss',\n",
       "              feature_types=None, gamma=None, grow_policy=None,\n",
       "              importance_type=None, interaction_constraints=None,\n",
       "              learning_rate=0.2, max_bin=None, max_cat_threshold=None,\n",
       "              max_cat_to_onehot=None, max_delta_step=None, max_depth=3,\n",
       "              max_leaves=None, min_child_weight=None, missing=nan,\n",
       "              monotone_constraints=None, multi_strategy=None, n_estimators=200,\n",
       "              n_jobs=None, num_parallel_tree=None, random_state=None, ...)"
      ]
     },
     "execution_count": 45,
     "metadata": {},
     "output_type": "execute_result"
    }
   ],
   "source": [
    "from xgboost import XGBClassifier\n",
    "from sklearn.metrics import accuracy_score, confusion_matrix, classification_report\n",
    "\n",
    "# Initialize the model with the best parameters\n",
    "best_xgb_model = XGBClassifier(\n",
    "    colsample_bytree=0.8,\n",
    "    learning_rate=0.2,\n",
    "    max_depth=3,\n",
    "    n_estimators=200,\n",
    "    scale_pos_weight=1,\n",
    "    subsample=0.8,\n",
    "    use_label_encoder=False,  \n",
    "    eval_metric='logloss'     \n",
    ")\n",
    "\n",
    "# Training the model on the training data\n",
    "best_xgb_model.fit(X_train, y_train)\n"
   ]
  },
  {
   "cell_type": "markdown",
   "id": "636c395e-33e0-4ba7-a31b-7bc4928b2fea",
   "metadata": {},
   "source": [
    "**To test the model independent of Grid Search**"
   ]
  },
  {
   "cell_type": "code",
   "execution_count": 46,
   "id": "4a2cae25-0f9f-492d-bf66-5dd5bfd418b6",
   "metadata": {},
   "outputs": [
    {
     "name": "stdout",
     "output_type": "stream",
     "text": [
      "Test Metrics:\n",
      "Accuracy: 0.9995962220427653\n",
      "[[56857     7]\n",
      " [   16    82]]\n",
      "              precision    recall  f1-score   support\n",
      "\n",
      "           0       1.00      1.00      1.00     56864\n",
      "           1       0.92      0.84      0.88        98\n",
      "\n",
      "    accuracy                           1.00     56962\n",
      "   macro avg       0.96      0.92      0.94     56962\n",
      "weighted avg       1.00      1.00      1.00     56962\n",
      "\n"
     ]
    }
   ],
   "source": [
    "# Predicting on the test set\n",
    "y_test_pred = best_xgb_model.predict(X_test)\n",
    "\n",
    "# Classification metrics\n",
    "print(\"Test Metrics:\")\n",
    "print(f\"Accuracy: {accuracy_score(y_test, y_test_pred)}\")\n",
    "print(confusion_matrix(y_test, y_test_pred))\n",
    "print(classification_report(y_test, y_test_pred))\n"
   ]
  },
  {
   "cell_type": "markdown",
   "id": "35ca31f6-8557-4159-9ea9-acdc8ed6096e",
   "metadata": {},
   "source": [
    "**We can also get the importance of each of the features in this model and plot them as shown below:**"
   ]
  },
  {
   "cell_type": "code",
   "execution_count": 47,
   "id": "0fe8405c-8a8f-43d1-8669-ce351921deb9",
   "metadata": {},
   "outputs": [
    {
     "data": {
      "text/plain": [
       "<Figure size 1000x800 with 0 Axes>"
      ]
     },
     "metadata": {},
     "output_type": "display_data"
    },
    {
     "data": {
      "image/png": "[encoded data removed]",
      "text/plain": [
       "<Figure size 640x480 with 1 Axes>"
      ]
     },
     "metadata": {},
     "output_type": "display_data"
    }
   ],
   "source": [
    "import matplotlib.pyplot as plt\n",
    "from xgboost import plot_importance\n",
    "\n",
    "# Plot feature importance\n",
    "plt.figure(figsize=(10, 8))\n",
    "plot_importance(best_xgb_model, max_num_features=15)  # Show top 10 features\n",
    "plt.show()\n"
   ]
  },
  {
   "cell_type": "markdown",
   "id": "97be61c3-43aa-450a-af53-a1afb272a076",
   "metadata": {},
   "source": [
    "# Saving and reloading the model"
   ]
  },
  {
   "cell_type": "markdown",
   "id": "8ecf4c9f-614e-41a6-9256-ded5084b9d95",
   "metadata": {},
   "source": [
    "**The final XGBoost can be saved for deployment in a number of ways. A common method used for saving Machine Learning models is by using the pickle library. The following cell we save the model as a pickle file. The name of the model is \"best_xgb_model\" and the name of the pickle file is \"xgboost_model.pkl\"**"
   ]
  },
  {
   "cell_type": "code",
   "execution_count": 48,
   "id": "2495f19b-52b4-4cac-8533-b9297e2893c9",
   "metadata": {},
   "outputs": [],
   "source": [
    "import pickle\n",
    "\n",
    "# Save the model to a file\n",
    "with open('xgboost_model.pkl', 'wb') as file:\n",
    "    pickle.dump(best_xgb_model, file)"
   ]
  },
  {
   "cell_type": "markdown",
   "id": "8c87c3e5-096d-4efe-afe6-5e81eb4c569a",
   "metadata": {},
   "source": [
    "**After saving the model, we can relaod the model to verify it is working by printing the test evaluation metrics. This is done in the following cell:**"
   ]
  },
  {
   "cell_type": "code",
   "execution_count": 49,
   "id": "9de3aaf9-6751-48dc-a707-261a1d829ad1",
   "metadata": {},
   "outputs": [
    {
     "name": "stdout",
     "output_type": "stream",
     "text": [
      "Test Metrics:\n",
      "Accuracy: 0.9995962220427653\n",
      "[[56857     7]\n",
      " [   16    82]]\n",
      "              precision    recall  f1-score   support\n",
      "\n",
      "           0       1.00      1.00      1.00     56864\n",
      "           1       0.92      0.84      0.88        98\n",
      "\n",
      "    accuracy                           1.00     56962\n",
      "   macro avg       0.96      0.92      0.94     56962\n",
      "weighted avg       1.00      1.00      1.00     56962\n",
      "\n"
     ]
    }
   ],
   "source": [
    "# Load the saved model\n",
    "with open('xgboost_model.pkl', 'rb') as file:\n",
    "    loaded_model = pickle.load(file)\n",
    "\n",
    "print(\"Test Metrics:\")\n",
    "print(f\"Accuracy: {accuracy_score(y_test, y_test_pred)}\")\n",
    "print(confusion_matrix(y_test, y_test_pred))\n",
    "print(classification_report(y_test, y_test_pred))\n"
   ]
  },
  {
   "cell_type": "markdown",
   "id": "a8314192-c8ae-4752-bdff-ddcb5890434c",
   "metadata": {},
   "source": [
    "**The evaluation metrics obtained after reloading the \"best_xgb_model\" from the \"xgboost_model.pkl\" file were identical to the ones obtained when the models was created earlier.**"
   ]
  },
  {
   "cell_type": "markdown",
   "id": "fb2e7737-cddc-49f3-b5a7-ec29bbe304f1",
   "metadata": {},
   "source": [
    "## Conclusion"
   ]
  },
  {
   "cell_type": "markdown",
   "id": "f4c910e8-3712-44c5-a5df-8ff7e5bd9685",
   "metadata": {},
   "source": [
    "**This concludes the credit-card fraud prediction project. Some of the important conclusions are as follows:**\n",
    "- **For a dataset which is as imbalanced as the one used in this project, it is important to transform the data when using simpler Machine Learning models to ensure that they can perform well.**\n",
    "- **Stratifying on the minority class is important when splitting the data to ensure that both the train and test datasets have a representation of the minority class.**\n",
    "- **Selecting the appropriate evaluation metric is also essential. A metric like accuracy might yield very high values on the train data; however this can be very misleading due to the highly imbalanced nature of the data which leads to the majority class dominating the accuracy.**\n",
    "- **As a result metrics like precision, recall and F1-score are more appropriate for such a problem. In this problem, F1-score was employed as the metric of choice as it takes into account both precision and recall and gives a balanced evaluation quantity.**\n",
    "- **The model of choice is an important decision. 4 models were used in this problem: Logistic Regression, Support Vector Machines, Random Forest and XGBoost.**\n",
    "- **Logistic Regression is a probabalistic model, which is not always apt for such classification problems, especially when the dataset is highly imbalanced, like this case. It can be too simplistic and does not catch the mainority class accurately, because it assumes a linear decision boundary.**\n",
    "- **Support Vector Machine is a distance based model, which is highly sensitive to imbalanced data. This makes this model not the best choice for fraud prediction. This was evident from the low precision obtained using this model. SVM can also be computationally intensive when the dataset is large or a complex kernel is used.**\n",
    "- **Random Forest is a good model for fraud detection because it can handle imabalanced data well. Random Forest, being an ensemble of Decision Trees is able to handle imabalance better than Logistic Regression and SVM.**\n",
    "- **XGBoost is another tree-based ensemble model which was used in this project. XGBoost is amongst the best choices for such problems because it can inherently handle imbalance very well. Another advantage of this model is that it does not need too much data transformation and can handle unprocessed data very well through its parameters. However it can be slightly slower and more computationally intensive compared to other models.**"
   ]
  },
  {
   "cell_type": "code",
   "execution_count": null,
   "id": "f02a59ca-3d46-4aec-898d-394c2912231e",
   "metadata": {},
   "outputs": [],
   "source": []
  }
 ],
 "metadata": {
  "kernelspec": {
   "display_name": "Python 3 (ipykernel)",
   "language": "python",
   "name": "python3"
  },
  "language_info": {
   "codemirror_mode": {
    "name": "ipython",
    "version": 3
   },
   "file_extension": ".py",
   "mimetype": "text/x-python",
   "name": "python",
   "nbconvert_exporter": "python",
   "pygments_lexer": "ipython3",
   "version": "3.11.7"
  }
 },
 "nbformat": 4,
 "nbformat_minor": 5
}
